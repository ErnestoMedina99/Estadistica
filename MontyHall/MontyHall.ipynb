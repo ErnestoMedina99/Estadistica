{
 "cells": [
  {
   "cell_type": "code",
   "execution_count": 1,
   "metadata": {},
   "outputs": [],
   "source": [
    "#Se importan las librerías\n",
    "import pandas as pd\n",
    "import numpy as np\n",
    "from scipy.integrate import odeint\n",
    "import matplotlib.pyplot as plt\n",
    "import seaborn as sns\n",
    "from numpy import loadtxt\n",
    "from pylab import figure, plot, xlabel, grid, legend, title, savefig\n",
    "from matplotlib.font_manager import FontProperties\n",
    "from matplotlib import pylab\n",
    "from scipy.optimize import curve_fit\n",
    "import random"
   ]
  },
  {
   "cell_type": "code",
   "execution_count": 50,
   "metadata": {},
   "outputs": [],
   "source": [
    "#Caso donde no se elige la otra puerta\n",
    "\n",
    "#Se declara la matriz de las puertas; siendo 1 en la que hay\n",
    "#un carro, y 2 si hay una cabra\n",
    "puertas = [1, 0, 0]\n",
    "\n",
    "#Número de veces que se repite el experimento\n",
    "n = 5000\n",
    "\n",
    "#Contador para el número de veces que ganó o perdió\n",
    "p = g = 0\n",
    "\n",
    "#Se hace el experimento n veces\n",
    "for i in range(0, n):\n",
    "    \n",
    "    #Se genera un número random entre 1 y 3 para que elija\n",
    "    #de manera random un elemento de la matriz (la elección \n",
    "    #del concursante)\n",
    "    t = np.random.randint(0, 3)\n",
    "    \n",
    "    \n",
    "    #El presentador abre una puerta donde hay una cabra, por\n",
    "    #lo que se descarta. Ahora solo quedan dos puertas; al \n",
    "    #quedarse en esa, si su elección inicial es el carro, \n",
    "    #ganó, y si no, perdió.\n",
    "    \n",
    "    #Si el elemento es 1 (carro); ganó, por lo que se añade\n",
    "    #al contador\n",
    "    if puertas[t]==1:\n",
    "        g += 1 \n",
    "        \n",
    "    #Si el elemento es 0 (cabra); perdió, por lo que se añade\n",
    "    #al contador\n",
    "    elif puertas[t]==0:\n",
    "        p += 1\n",
    "\n",
    "#Frecuencia relativa de haber ganado\n",
    "f_g = g/n\n",
    "\n",
    "#Frecuencia relativa de haber perdido\n",
    "f_p = p/n"
   ]
  },
  {
   "cell_type": "code",
   "execution_count": 60,
   "metadata": {},
   "outputs": [
    {
     "data": {
      "text/plain": [
       "0.6654"
      ]
     },
     "execution_count": 60,
     "metadata": {},
     "output_type": "execute_result"
    }
   ],
   "source": [
    "#Caso donde no se elige la otra puerta\n",
    "\n",
    "#Se declara la matriz de las puertas; siendo 1 en la que hay\n",
    "#un carro, y 2 si hay una cabra\n",
    "puertas = [1, 0, 0]\n",
    "\n",
    "#Número de veces que se repite el experimento\n",
    "n = 5000\n",
    "\n",
    "#Contador para el número de veces que ganó o perdió\n",
    "p = g = 0\n",
    "\n",
    "#Se hace el experimento n veces\n",
    "for i in range(0, n):\n",
    "    \n",
    "    #Se genera un número random entre 1 y 3 para que elija\n",
    "    #de manera random un elemento de la matriz (la elección \n",
    "    #del concursante)\n",
    "    t = np.random.randint(0, 3)\n",
    "    \n",
    "    r = np.random.randint(0, 3)\n",
    "    \n",
    "    #Agregar (en proceso)\n",
    "    if r!=t and puertas[r]==0:\n",
    "        puertas2 = np.delete(puertas, r)\n",
    "    \n",
    "    \n",
    "    #El presentador abre una puerta donde hay una cabra, por\n",
    "    #lo que se descarta. Ahora solo quedan dos puertas; al \n",
    "    #quedarse en esa, si su elección inicial es el carro, \n",
    "    #ganó, y si no, perdió.\n",
    "    \n",
    "    #Si el elemento es 1 (carro); ganó, por lo que se añade\n",
    "    #al contador\n",
    "    if puertas[t]==1:\n",
    "        g += 1 \n",
    "        \n",
    "    #Si el elemento es 0 (cabra); perdió, por lo que se añade\n",
    "    #al contador\n",
    "    elif puertas[t]==0:\n",
    "        p += 1\n",
    "\n",
    "#Frecuencia relativa de haber ganado\n",
    "f_g = g/n\n",
    "\n",
    "#Frecuencia relativa de haber perdido\n",
    "f_p = p/n"
   ]
  },
  {
   "cell_type": "code",
   "execution_count": null,
   "metadata": {},
   "outputs": [],
   "source": []
  }
 ],
 "metadata": {
  "kernelspec": {
   "display_name": "Python 3",
   "language": "python",
   "name": "python3"
  },
  "language_info": {
   "codemirror_mode": {
    "name": "ipython",
    "version": 3
   },
   "file_extension": ".py",
   "mimetype": "text/x-python",
   "name": "python",
   "nbconvert_exporter": "python",
   "pygments_lexer": "ipython3",
   "version": "3.6.3"
  }
 },
 "nbformat": 4,
 "nbformat_minor": 2
}
