{
 "cells": [
  {
   "cell_type": "code",
   "execution_count": 1,
   "metadata": {},
   "outputs": [],
   "source": [
    "#Se importan las librerías\n",
    "import pandas as pd\n",
    "import numpy as np\n",
    "from scipy.integrate import odeint\n",
    "import matplotlib.pyplot as plt\n",
    "import seaborn as sns\n",
    "from numpy import loadtxt\n",
    "from pylab import figure, plot, xlabel, grid, legend, title, savefig\n",
    "from matplotlib.font_manager import FontProperties\n",
    "from matplotlib import pylab\n",
    "from scipy.optimize import curve_fit\n",
    "import random"
   ]
  },
  {
   "cell_type": "code",
   "execution_count": null,
   "metadata": {},
   "outputs": [],
   "source": [
    "#Problema de Monty Hall\n",
    "#Sea A el evento en que el concursante elige la casilla en la que se encuentra el auto\n",
    "#Sea t el número de puertas\n",
    "#Sea n el número de puertas escogidas al principio por el concursante\n",
    "#Sea l el número de puertas en las que se ha enseñado que adentro no hay nada\n",
    "\n",
    "    \"\"\"\"\n",
    "        P(A) = n+l/t\n",
    "    \"\"\"\n",
    "\n",
    "#Se define el número total de puertas\n",
    "t = 100\n",
    "    \n",
    "#Se declaran los arreglos\n",
    "P_A = []\n",
    "\n",
    "#Se define el número de puertas que eligió el concursante al principio\n",
    "n = 1\n",
    "\n",
    "#Se llena el arreglo\n",
    "for l in range(0, t):\n",
    "    a = (n+l)/t\n",
    "    P_A.append(a)\n"
   ]
  }
 ],
 "metadata": {
  "kernelspec": {
   "display_name": "Python 3",
   "language": "python",
   "name": "python3"
  },
  "language_info": {
   "codemirror_mode": {
    "name": "ipython",
    "version": 3
   },
   "file_extension": ".py",
   "mimetype": "text/x-python",
   "name": "python",
   "nbconvert_exporter": "python",
   "pygments_lexer": "ipython3",
   "version": "3.6.3"
  }
 },
 "nbformat": 4,
 "nbformat_minor": 2
}
