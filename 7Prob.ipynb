{
  "nbformat": 4,
  "nbformat_minor": 0,
  "metadata": {
    "kernelspec": {
      "display_name": "Python 3",
      "language": "python",
      "name": "python3"
    },
    "language_info": {
      "codemirror_mode": {
        "name": "ipython",
        "version": 3
      },
      "file_extension": ".py",
      "mimetype": "text/x-python",
      "name": "python",
      "nbconvert_exporter": "python",
      "pygments_lexer": "ipython3",
      "version": "3.7.4"
    },
    "colab": {
      "name": "7Prob.ipynb",
      "provenance": [],
      "collapsed_sections": [],
      "include_colab_link": true
    }
  },
  "cells": [
    {
      "cell_type": "markdown",
      "metadata": {
        "id": "view-in-github",
        "colab_type": "text"
      },
      "source": [
        "<a href=\"https://colab.research.google.com/github/ErnestoMedina99/Estadistica/blob/master/7Prob.ipynb\" target=\"_parent\"><img src=\"https://colab.research.google.com/assets/colab-badge.svg\" alt=\"Open In Colab\"/></a>"
      ]
    },
    {
      "cell_type": "code",
      "metadata": {
        "id": "cOjg8r7Wwg0o",
        "colab_type": "code",
        "colab": {}
      },
      "source": [
        "#Se importan las librerías\n",
        "import pandas as pd\n",
        "import numpy as np\n",
        "from scipy.integrate import odeint\n",
        "import matplotlib.pyplot as plt\n",
        "import seaborn as sns\n",
        "from numpy import loadtxt\n",
        "from pylab import figure, plot, xlabel, grid, legend, title, savefig\n",
        "from matplotlib.font_manager import FontProperties\n",
        "from matplotlib import pylab\n",
        "from scipy.optimize import curve_fit\n",
        "import random\n",
        "import math"
      ],
      "execution_count": 0,
      "outputs": []
    },
    {
      "cell_type": "code",
      "metadata": {
        "id": "K2ZOp4Aj4wFF",
        "colab_type": "code",
        "colab": {
          "base_uri": "https://localhost:8080/",
          "height": 17
        },
        "outputId": "d234ae56-72e9-48c2-ccb6-ce9a6b8c5f22"
      },
      "source": [
        "from IPython.display import HTML, Math\n",
        "display(HTML(\"<script src='https://cdnjs.cloudflare.com/ajax/libs/mathjax/2.7.3/\"\n",
        "             \"latest.js?config=default'></script>\"))"
      ],
      "execution_count": 77,
      "outputs": [
        {
          "output_type": "display_data",
          "data": {
            "text/html": [
              "<script src='https://cdnjs.cloudflare.com/ajax/libs/mathjax/2.7.3/latest.js?config=default'></script>"
            ],
            "text/plain": [
              "<IPython.core.display.HTML object>"
            ]
          },
          "metadata": {
            "tags": []
          }
        }
      ]
    },
    {
      "cell_type": "code",
      "metadata": {
        "id": "5LwAJ0QFxXE3",
        "colab_type": "code",
        "outputId": "647d88c1-44b2-46e5-85f8-98ef1caa4061",
        "colab": {
          "base_uri": "https://localhost:8080/",
          "height": 54
        }
      },
      "source": [
        "from google.colab import drive\n",
        "drive.mount('/content/drive')"
      ],
      "execution_count": 84,
      "outputs": [
        {
          "output_type": "stream",
          "text": [
            "Drive already mounted at /content/drive; to attempt to forcibly remount, call drive.mount(\"/content/drive\", force_remount=True).\n"
          ],
          "name": "stdout"
        }
      ]
    },
    {
      "cell_type": "code",
      "metadata": {
        "id": "trBZkldFJ1Ut",
        "colab_type": "code",
        "colab": {
          "base_uri": "https://localhost:8080/",
          "height": 51
        },
        "outputId": "ac8c44a7-b7e9-467c-adb2-b5bfefb084d9"
      },
      "source": [
        "#Comando para darle una estética distinta a las gráficas.\n",
        "sns.set(rc={'figure.figsize':(12,12)})\n",
        "figure(1, figsize=(12, 12))"
      ],
      "execution_count": 130,
      "outputs": [
        {
          "output_type": "execute_result",
          "data": {
            "text/plain": [
              "<Figure size 864x864 with 0 Axes>"
            ]
          },
          "metadata": {
            "tags": []
          },
          "execution_count": 130
        },
        {
          "output_type": "display_data",
          "data": {
            "text/plain": [
              "<Figure size 864x864 with 0 Axes>"
            ]
          },
          "metadata": {
            "tags": []
          }
        }
      ]
    },
    {
      "cell_type": "markdown",
      "metadata": {
        "id": "d7FiMTYL0HpT",
        "colab_type": "text"
      },
      "source": [
        "1. Los siguientes datos representan el nùmero de aciertos obtenidos por tres algoritmos clasificadores en un total de 20 casos diferentes durante 10 ejecuciones. Este tipo de algoritmos se utilizan en biologìa para clasificar nuevas plantas con respecto a un conjunto de variedades de plantas conocidas, con base a aspectos como tiempo para germinar, color del tallo y de la hoja, forma de la hoja, etc. En medicina se utilizan para clasificar pacientes con riesgo de contraer cierta enfermedad como cáncer o diabetes, tomando en cuenta, por ejemplo, sexo, edad, si es o no fumador, antecedentes familiares, etc. La clasificación “automática” en la minerìa de datos, generalmente se obtiene por medio de un algoritmo de inteligencia artificial el cual utiliza un conjunto de entrenamiento para su aprendizaje inicial antes de clasificar casos desconocidos.\n",
        "\n"
      ]
    },
    {
      "cell_type": "code",
      "metadata": {
        "id": "x_axIHLQwg1w",
        "colab_type": "code",
        "outputId": "7f6c394b-4067-48a0-de82-1697f0d975cc",
        "colab": {
          "base_uri": "https://localhost:8080/",
          "height": 359
        }
      },
      "source": [
        "#Problema 1:\n",
        "\n",
        "#Leer el archivo de texto de la 1\n",
        "df1 = pd.read_csv('/content/drive/My Drive/Estadística/7Problemas/1.csv')\n",
        "df1"
      ],
      "execution_count": 41,
      "outputs": [
        {
          "output_type": "execute_result",
          "data": {
            "text/html": [
              "<div>\n",
              "<style scoped>\n",
              "    .dataframe tbody tr th:only-of-type {\n",
              "        vertical-align: middle;\n",
              "    }\n",
              "\n",
              "    .dataframe tbody tr th {\n",
              "        vertical-align: top;\n",
              "    }\n",
              "\n",
              "    .dataframe thead th {\n",
              "        text-align: right;\n",
              "    }\n",
              "</style>\n",
              "<table border=\"1\" class=\"dataframe\">\n",
              "  <thead>\n",
              "    <tr style=\"text-align: right;\">\n",
              "      <th></th>\n",
              "      <th>Algoritmo1</th>\n",
              "      <th>Algoritmo2</th>\n",
              "      <th>Algoritmo3</th>\n",
              "    </tr>\n",
              "  </thead>\n",
              "  <tbody>\n",
              "    <tr>\n",
              "      <th>0</th>\n",
              "      <td>18</td>\n",
              "      <td>10</td>\n",
              "      <td>15</td>\n",
              "    </tr>\n",
              "    <tr>\n",
              "      <th>1</th>\n",
              "      <td>9</td>\n",
              "      <td>13</td>\n",
              "      <td>10</td>\n",
              "    </tr>\n",
              "    <tr>\n",
              "      <th>2</th>\n",
              "      <td>13</td>\n",
              "      <td>14</td>\n",
              "      <td>4</td>\n",
              "    </tr>\n",
              "    <tr>\n",
              "      <th>3</th>\n",
              "      <td>20</td>\n",
              "      <td>12</td>\n",
              "      <td>18</td>\n",
              "    </tr>\n",
              "    <tr>\n",
              "      <th>4</th>\n",
              "      <td>14</td>\n",
              "      <td>12</td>\n",
              "      <td>6</td>\n",
              "    </tr>\n",
              "    <tr>\n",
              "      <th>5</th>\n",
              "      <td>4</td>\n",
              "      <td>14</td>\n",
              "      <td>8</td>\n",
              "    </tr>\n",
              "    <tr>\n",
              "      <th>6</th>\n",
              "      <td>16</td>\n",
              "      <td>11</td>\n",
              "      <td>12</td>\n",
              "    </tr>\n",
              "    <tr>\n",
              "      <th>7</th>\n",
              "      <td>10</td>\n",
              "      <td>16</td>\n",
              "      <td>16</td>\n",
              "    </tr>\n",
              "    <tr>\n",
              "      <th>8</th>\n",
              "      <td>14</td>\n",
              "      <td>14</td>\n",
              "      <td>7</td>\n",
              "    </tr>\n",
              "    <tr>\n",
              "      <th>9</th>\n",
              "      <td>18</td>\n",
              "      <td>12</td>\n",
              "      <td>10</td>\n",
              "    </tr>\n",
              "  </tbody>\n",
              "</table>\n",
              "</div>"
            ],
            "text/plain": [
              "    Algoritmo1  Algoritmo2  Algoritmo3\n",
              "0           18          10          15\n",
              "1            9          13          10\n",
              "2           13          14           4\n",
              "3           20          12          18\n",
              "4           14          12           6\n",
              "5            4          14           8\n",
              "6           16          11          12\n",
              "7           10          16          16\n",
              "8           14          14           7\n",
              "9           18          12          10"
            ]
          },
          "metadata": {
            "tags": []
          },
          "execution_count": 41
        }
      ]
    },
    {
      "cell_type": "markdown",
      "metadata": {
        "id": "htN9_S-45Ofj",
        "colab_type": "text"
      },
      "source": [
        "a) Considerando la media y la desviación estándar (o la varianza) ¿Cual algoritmo tuvo mejor desempeño y por qué?"
      ]
    },
    {
      "cell_type": "code",
      "metadata": {
        "id": "yNCg1ZK7wg2y",
        "colab_type": "code",
        "colab": {}
      },
      "source": [
        "#Calculando la media y la desviación estándar\n",
        "\n",
        "media = df1.mean(axis = 0, skipna = True)\n",
        "\n",
        "s = df1.std(axis = 0, skipna = True)\n"
      ],
      "execution_count": 0,
      "outputs": []
    },
    {
      "cell_type": "code",
      "metadata": {
        "id": "FuDJq3rtwg3g",
        "colab_type": "code",
        "outputId": "b9e76ca2-f5af-41c7-f8d7-2713e9683c21",
        "colab": {
          "base_uri": "https://localhost:8080/",
          "height": 85
        }
      },
      "source": [
        "#Media\n",
        "media"
      ],
      "execution_count": 43,
      "outputs": [
        {
          "output_type": "execute_result",
          "data": {
            "text/plain": [
              " Algoritmo1    13.6\n",
              "Algoritmo2     12.8\n",
              "Algoritmo3     10.6\n",
              "dtype: float64"
            ]
          },
          "metadata": {
            "tags": []
          },
          "execution_count": 43
        }
      ]
    },
    {
      "cell_type": "code",
      "metadata": {
        "id": "OXgjEZ3Wwg4Z",
        "colab_type": "code",
        "outputId": "6be4c9f3-0380-4423-8727-4f4e9a641ad1",
        "colab": {
          "base_uri": "https://localhost:8080/",
          "height": 85
        }
      },
      "source": [
        "#Desviación estándar\n",
        "s"
      ],
      "execution_count": 44,
      "outputs": [
        {
          "output_type": "execute_result",
          "data": {
            "text/plain": [
              " Algoritmo1    4.857983\n",
              "Algoritmo2     1.751190\n",
              "Algoritmo3     4.599517\n",
              "dtype: float64"
            ]
          },
          "metadata": {
            "tags": []
          },
          "execution_count": 44
        }
      ]
    },
    {
      "cell_type": "markdown",
      "metadata": {
        "id": "OFtRwJYt0dTt",
        "colab_type": "text"
      },
      "source": [
        "Basándonos en el criterio de la media, el algoritmo 1 tiene una media de 13.6, superando el 12.8 y 10.6 del algoritmo 2 y 3 respectivamente, por lo que podemos concluir que tendrà como media una mayor cantidad de aciertos.\n",
        "Aun así, basándonos en el criterio de la desviación estándar, se puede observar que el algoritmo nùmero 2 tiene una varianza menor, es decir, su valores no se alejan mucho de la media. Los rangos de confianza, para cada algoritmo, serían así:\n",
        "\n",
        "\n",
        "Algoritmo 1 = 9.75 < x < 18. 45\n",
        "\n",
        "\n",
        "Algoritmo 2 = 11.05 < x < 14.55\n",
        "\n",
        "Podemos observar que el algoritmo 2 se encuentra en un rango de valores mucho más aceptable que el número 1, el cual varía mucho entre ser muy alto y muy bajo, bajo este criterio, el algoritmo 2 sería una mejor elección si queremos tener un mejor control de calidad y además una media lo suficientemente alta.\n",
        "\n",
        "\n",
        "\n",
        "b) Obtenga la mediana y diga a qué conclusiones se puede llegar al compararlas. ¿Hay diferencias significativas? \n"
      ]
    },
    {
      "cell_type": "code",
      "metadata": {
        "id": "-fb1HDF03rqc",
        "colab_type": "code",
        "outputId": "aaa3473a-5f1c-4b0f-b89a-a754c79b98eb",
        "colab": {
          "base_uri": "https://localhost:8080/",
          "height": 85
        }
      },
      "source": [
        "#Calculando la mediana\n",
        "med = df1.median(axis = 0, skipna = True)\n",
        "med"
      ],
      "execution_count": 45,
      "outputs": [
        {
          "output_type": "execute_result",
          "data": {
            "text/plain": [
              " Algoritmo1    14.0\n",
              "Algoritmo2     12.5\n",
              "Algoritmo3     10.0\n",
              "dtype: float64"
            ]
          },
          "metadata": {
            "tags": []
          },
          "execution_count": 45
        }
      ]
    },
    {
      "cell_type": "markdown",
      "metadata": {
        "id": "8h8wI7eR390J",
        "colab_type": "text"
      },
      "source": [
        "Podemos observar que en los 3 casos, la mediana se acerca mucho a la media muestral, pero donde más se acerca es en el algoritmo 2, por lo cual podríamos concluir que es el más simétrico de todos.\n",
        "\n",
        "\n",
        "c) Obtenga la desviación absoluta promedio y comente qué diferencias hay con el cálculo de la desviación estándar. ¿Se puede llegar a las mismas conclusiones con ambas? ¿Cuál medida de variación cree que es más conveniente?"
      ]
    },
    {
      "cell_type": "code",
      "metadata": {
        "id": "4iMx8blK4M1q",
        "colab_type": "code",
        "outputId": "3644c23b-a335-4e53-a1bd-51487bdae587",
        "colab": {
          "base_uri": "https://localhost:8080/",
          "height": 85
        }
      },
      "source": [
        "#Calculando la desviación absoluta promedio\n",
        "sp = df1.mad(axis = 0, skipna = True)\n",
        "sp"
      ],
      "execution_count": 46,
      "outputs": [
        {
          "output_type": "execute_result",
          "data": {
            "text/plain": [
              " Algoritmo1    3.68\n",
              "Algoritmo2     1.40\n",
              "Algoritmo3     3.72\n",
              "dtype: float64"
            ]
          },
          "metadata": {
            "tags": []
          },
          "execution_count": 46
        }
      ]
    },
    {
      "cell_type": "markdown",
      "metadata": {
        "id": "-VV3v4j_4V1x",
        "colab_type": "text"
      },
      "source": [
        "Podemos observar que las desviaciones estándar siempre son menores que las desviaciones absolutas promedio, bajo esta observación, podemos decir que es más conveniente utilizar la desviación estándar, ya que amplifica las desviaciones de los valores de la muestra respecto a su media, así es más posible apreciar las diferencias entre los algoritmos. además de que la desviación estándar representa un estimador menos sesgado al parámetro poblacional."
      ]
    },
    {
      "cell_type": "markdown",
      "metadata": {
        "id": "JYYAjOJG42RO",
        "colab_type": "text"
      },
      "source": [
        "2. Los siguientes datos representan el nùmero de operaciones realizadas por dos algoritmos para resolver problemas de optimización con distintas instancias o casos para una misma aplicación particular.\n",
        "\n"
      ]
    },
    {
      "cell_type": "code",
      "metadata": {
        "id": "ESJap8tpwg6I",
        "colab_type": "code",
        "outputId": "2cc99a06-72bc-447e-9dd5-0037563b4c4c",
        "colab": {
          "base_uri": "https://localhost:8080/",
          "height": 421
        }
      },
      "source": [
        "#Problema 2\n",
        "\n",
        "#Leer el archivo de texto de la 2\n",
        "df2 = pd.read_csv('/content/drive/My Drive/Estadística/7Problemas/2.csv')\n",
        "df2"
      ],
      "execution_count": 47,
      "outputs": [
        {
          "output_type": "execute_result",
          "data": {
            "text/html": [
              "<div>\n",
              "<style scoped>\n",
              "    .dataframe tbody tr th:only-of-type {\n",
              "        vertical-align: middle;\n",
              "    }\n",
              "\n",
              "    .dataframe tbody tr th {\n",
              "        vertical-align: top;\n",
              "    }\n",
              "\n",
              "    .dataframe thead th {\n",
              "        text-align: right;\n",
              "    }\n",
              "</style>\n",
              "<table border=\"1\" class=\"dataframe\">\n",
              "  <thead>\n",
              "    <tr style=\"text-align: right;\">\n",
              "      <th></th>\n",
              "      <th>Algoritmo1</th>\n",
              "      <th>Algoritmo2</th>\n",
              "    </tr>\n",
              "  </thead>\n",
              "  <tbody>\n",
              "    <tr>\n",
              "      <th>0</th>\n",
              "      <td>2800</td>\n",
              "      <td>3400</td>\n",
              "    </tr>\n",
              "    <tr>\n",
              "      <th>1</th>\n",
              "      <td>3400</td>\n",
              "      <td>3000</td>\n",
              "    </tr>\n",
              "    <tr>\n",
              "      <th>2</th>\n",
              "      <td>3000</td>\n",
              "      <td>2600</td>\n",
              "    </tr>\n",
              "    <tr>\n",
              "      <th>3</th>\n",
              "      <td>3200</td>\n",
              "      <td>3800</td>\n",
              "    </tr>\n",
              "    <tr>\n",
              "      <th>4</th>\n",
              "      <td>4200</td>\n",
              "      <td>4000</td>\n",
              "    </tr>\n",
              "    <tr>\n",
              "      <th>5</th>\n",
              "      <td>2800</td>\n",
              "      <td>4200</td>\n",
              "    </tr>\n",
              "    <tr>\n",
              "      <th>6</th>\n",
              "      <td>3600</td>\n",
              "      <td>3500</td>\n",
              "    </tr>\n",
              "    <tr>\n",
              "      <th>7</th>\n",
              "      <td>4400</td>\n",
              "      <td>4000</td>\n",
              "    </tr>\n",
              "    <tr>\n",
              "      <th>8</th>\n",
              "      <td>3000</td>\n",
              "      <td>3000</td>\n",
              "    </tr>\n",
              "    <tr>\n",
              "      <th>9</th>\n",
              "      <td>3700</td>\n",
              "      <td>3900</td>\n",
              "    </tr>\n",
              "    <tr>\n",
              "      <th>10</th>\n",
              "      <td>4000</td>\n",
              "      <td>3800</td>\n",
              "    </tr>\n",
              "    <tr>\n",
              "      <th>11</th>\n",
              "      <td>4000</td>\n",
              "      <td>4500</td>\n",
              "    </tr>\n",
              "  </tbody>\n",
              "</table>\n",
              "</div>"
            ],
            "text/plain": [
              "    Algoritmo1  Algoritmo2\n",
              "0         2800        3400\n",
              "1         3400        3000\n",
              "2         3000        2600\n",
              "3         3200        3800\n",
              "4         4200        4000\n",
              "5         2800        4200\n",
              "6         3600        3500\n",
              "7         4400        4000\n",
              "8         3000        3000\n",
              "9         3700        3900\n",
              "10        4000        3800\n",
              "11        4000        4500"
            ]
          },
          "metadata": {
            "tags": []
          },
          "execution_count": 47
        }
      ]
    },
    {
      "cell_type": "code",
      "metadata": {
        "id": "-EpufDyl7JrT",
        "colab_type": "code",
        "outputId": "394af45e-3f54-45d5-a0dd-4e6e7b0b0ba4",
        "colab": {
          "base_uri": "https://localhost:8080/",
          "height": 421
        }
      },
      "source": [
        "df2 = df2*0.1\n",
        "df2"
      ],
      "execution_count": 48,
      "outputs": [
        {
          "output_type": "execute_result",
          "data": {
            "text/html": [
              "<div>\n",
              "<style scoped>\n",
              "    .dataframe tbody tr th:only-of-type {\n",
              "        vertical-align: middle;\n",
              "    }\n",
              "\n",
              "    .dataframe tbody tr th {\n",
              "        vertical-align: top;\n",
              "    }\n",
              "\n",
              "    .dataframe thead th {\n",
              "        text-align: right;\n",
              "    }\n",
              "</style>\n",
              "<table border=\"1\" class=\"dataframe\">\n",
              "  <thead>\n",
              "    <tr style=\"text-align: right;\">\n",
              "      <th></th>\n",
              "      <th>Algoritmo1</th>\n",
              "      <th>Algoritmo2</th>\n",
              "    </tr>\n",
              "  </thead>\n",
              "  <tbody>\n",
              "    <tr>\n",
              "      <th>0</th>\n",
              "      <td>280.0</td>\n",
              "      <td>340.0</td>\n",
              "    </tr>\n",
              "    <tr>\n",
              "      <th>1</th>\n",
              "      <td>340.0</td>\n",
              "      <td>300.0</td>\n",
              "    </tr>\n",
              "    <tr>\n",
              "      <th>2</th>\n",
              "      <td>300.0</td>\n",
              "      <td>260.0</td>\n",
              "    </tr>\n",
              "    <tr>\n",
              "      <th>3</th>\n",
              "      <td>320.0</td>\n",
              "      <td>380.0</td>\n",
              "    </tr>\n",
              "    <tr>\n",
              "      <th>4</th>\n",
              "      <td>420.0</td>\n",
              "      <td>400.0</td>\n",
              "    </tr>\n",
              "    <tr>\n",
              "      <th>5</th>\n",
              "      <td>280.0</td>\n",
              "      <td>420.0</td>\n",
              "    </tr>\n",
              "    <tr>\n",
              "      <th>6</th>\n",
              "      <td>360.0</td>\n",
              "      <td>350.0</td>\n",
              "    </tr>\n",
              "    <tr>\n",
              "      <th>7</th>\n",
              "      <td>440.0</td>\n",
              "      <td>400.0</td>\n",
              "    </tr>\n",
              "    <tr>\n",
              "      <th>8</th>\n",
              "      <td>300.0</td>\n",
              "      <td>300.0</td>\n",
              "    </tr>\n",
              "    <tr>\n",
              "      <th>9</th>\n",
              "      <td>370.0</td>\n",
              "      <td>390.0</td>\n",
              "    </tr>\n",
              "    <tr>\n",
              "      <th>10</th>\n",
              "      <td>400.0</td>\n",
              "      <td>380.0</td>\n",
              "    </tr>\n",
              "    <tr>\n",
              "      <th>11</th>\n",
              "      <td>400.0</td>\n",
              "      <td>450.0</td>\n",
              "    </tr>\n",
              "  </tbody>\n",
              "</table>\n",
              "</div>"
            ],
            "text/plain": [
              "    Algoritmo1  Algoritmo2\n",
              "0        280.0       340.0\n",
              "1        340.0       300.0\n",
              "2        300.0       260.0\n",
              "3        320.0       380.0\n",
              "4        420.0       400.0\n",
              "5        280.0       420.0\n",
              "6        360.0       350.0\n",
              "7        440.0       400.0\n",
              "8        300.0       300.0\n",
              "9        370.0       390.0\n",
              "10       400.0       380.0\n",
              "11       400.0       450.0"
            ]
          },
          "metadata": {
            "tags": []
          },
          "execution_count": 48
        }
      ]
    },
    {
      "cell_type": "markdown",
      "metadata": {
        "id": "SOhI0idW5hcH",
        "colab_type": "text"
      },
      "source": [
        "a) Determinar la media, la varianza y la desviación estándar del número de operaciones de cada algoritmo. Para evitar errores de redondeo o desbordamiento de memoria primero rescale los datos a decenas y aplica la transformación necesaria al obtener la media y varianza de los datos originales. Observe que si divide (o multiplica) los datos originales por una constante, la media original se ve afectada también por la multiplicacion (o division) de la constante, mientras que la varianza se ve afectada por la division (o multiplicacion) del cuadrado de la constante, o lo que es lo mismo, la desviación estándar de los datos originales es afectada por la divisiòn (multipliaciòn) de la constante (sin el cuadrado), debido a que la desviaciòn estándar es la raíz cuadrada de la varianza… (Por demostrarlo)"
      ]
    },
    {
      "cell_type": "code",
      "metadata": {
        "id": "X5lzw_j7wg6p",
        "colab_type": "code",
        "colab": {}
      },
      "source": [
        "#Calculando la media, la desviación estándar, la desviación absoluta promedio y la varianza\n",
        "\n",
        "media2 = df2.mean(axis = 0, skipna = True)\n",
        "\n",
        "s2 = df2.std(axis = 0, skipna = True)\n",
        "\n",
        "V2 = s2**2"
      ],
      "execution_count": 0,
      "outputs": []
    },
    {
      "cell_type": "code",
      "metadata": {
        "id": "GQKjr6-1wg7L",
        "colab_type": "code",
        "outputId": "c0f4aaae-e23f-40d5-8a1d-b5b690b66e2b",
        "colab": {
          "base_uri": "https://localhost:8080/",
          "height": 68
        }
      },
      "source": [
        "#Media \n",
        "media2"
      ],
      "execution_count": 50,
      "outputs": [
        {
          "output_type": "execute_result",
          "data": {
            "text/plain": [
              "Algoritmo1    350.833333\n",
              "Algoritmo2    364.166667\n",
              "dtype: float64"
            ]
          },
          "metadata": {
            "tags": []
          },
          "execution_count": 50
        }
      ]
    },
    {
      "cell_type": "code",
      "metadata": {
        "id": "Rp1oD0dqwg7s",
        "colab_type": "code",
        "outputId": "2a54e781-409c-4198-fb68-e08932ad0a3b",
        "colab": {
          "base_uri": "https://localhost:8080/",
          "height": 68
        }
      },
      "source": [
        "#Desviación estándar\n",
        "s2"
      ],
      "execution_count": 51,
      "outputs": [
        {
          "output_type": "execute_result",
          "data": {
            "text/plain": [
              "Algoritmo1    55.833899\n",
              "Algoritmo2    55.670840\n",
              "dtype: float64"
            ]
          },
          "metadata": {
            "tags": []
          },
          "execution_count": 51
        }
      ]
    },
    {
      "cell_type": "code",
      "metadata": {
        "id": "wGgIXZ_E7mEa",
        "colab_type": "code",
        "outputId": "b7de7228-aa16-47d9-e0b8-8d74ba6485b9",
        "colab": {
          "base_uri": "https://localhost:8080/",
          "height": 68
        }
      },
      "source": [
        "#Varianza\n",
        "V2"
      ],
      "execution_count": 52,
      "outputs": [
        {
          "output_type": "execute_result",
          "data": {
            "text/plain": [
              "Algoritmo1    3117.424242\n",
              "Algoritmo2    3099.242424\n",
              "dtype: float64"
            ]
          },
          "metadata": {
            "tags": []
          },
          "execution_count": 52
        }
      ]
    },
    {
      "cell_type": "markdown",
      "metadata": {
        "id": "uvIHJn2M7r43",
        "colab_type": "text"
      },
      "source": [
        "b) ¿Qué algoritmo presenta más variaciòn o variabilidad?\n",
        "\n",
        "\n",
        "Se tiene que las varianzas de ambos algoritmos son muy similares, aún así, la varianza del algoritmo número 1 es ligeramente mayor"
      ]
    },
    {
      "cell_type": "markdown",
      "metadata": {
        "id": "598OdJml8qrS",
        "colab_type": "text"
      },
      "source": [
        "c) ¿Cuál algoritmo parece tener mejor comportamiento promedio y por qué?\n",
        "\n",
        "El algoritmo 1 presenta mejores resultados porque su media de operaciones realizadas es menor, y como la varianza es muy similar, pues el 1 tendrá mejor comportamiento."
      ]
    },
    {
      "cell_type": "markdown",
      "metadata": {
        "id": "TV4p_IYw9MeL",
        "colab_type": "text"
      },
      "source": [
        "d) Elabore es una misma gráfica un diagrama de caja para cada serie y compàrelas. ¿Qué diferencias resaltan con respecto al nùmero de operaciones?"
      ]
    },
    {
      "cell_type": "code",
      "metadata": {
        "id": "3Yb4Mqlr9dmH",
        "colab_type": "code",
        "outputId": "e3055dd9-c0a7-40e2-8cfd-338e4f54dfdc",
        "colab": {
          "base_uri": "https://localhost:8080/",
          "height": 711
        }
      },
      "source": [
        "#Graficando\n",
        "sns.boxplot(y=\"Algoritmo1\", data=df2, color = 'gray')\n",
        "plt.xlabel(r'Algoritmo1', fontsize = 14)\n",
        "plt.ylabel(r'Número de operaciones', fontsize = 14)\n",
        "sns.despine()\n",
        "fig1.savefig('/content/drive/My Drive/Estadística/7Problemas/Algoritmo1.png', dpi=300)\n",
        "plt.show()"
      ],
      "execution_count": 128,
      "outputs": [
        {
          "output_type": "display_data",
          "data": {
            "image/png": "[encoded data removed]",
            "text/plain": [
              "<Figure size 864x864 with 1 Axes>"
            ]
          },
          "metadata": {
            "tags": []
          }
        }
      ]
    },
    {
      "cell_type": "code",
      "metadata": {
        "id": "m2iNFHRI-fWh",
        "colab_type": "code",
        "outputId": "5b72fd04-085e-4ebe-e746-8b1a08bf9d48",
        "colab": {
          "base_uri": "https://localhost:8080/",
          "height": 711
        }
      },
      "source": [
        "#Graficando\n",
        "#Graficando\n",
        "sns.boxplot(y=\"Algoritmo2\", data=df2, color = 'gray')\n",
        "plt.xlabel(r'Algoritmo2', fontsize = 14)\n",
        "plt.ylabel(r'Número de operaciones', fontsize = 14)\n",
        "sns.despine()\n",
        "fig1.savefig('/content/drive/My Drive/Estadística/7Problemas/Algoritmo2.png', dpi=300)\n",
        "plt.show()"
      ],
      "execution_count": 129,
      "outputs": [
        {
          "output_type": "display_data",
          "data": {
            "image/png": "[encoded data removed]",
            "text/plain": [
              "<Figure size 864x864 with 1 Axes>"
            ]
          },
          "metadata": {
            "tags": []
          }
        }
      ]
    },
    {
      "cell_type": "markdown",
      "metadata": {
        "id": "mFJm_sym-zHl",
        "colab_type": "text"
      },
      "source": [
        "Podemos ver de las gráficas de caja que el algoritmo 1 es más simétrico, debido a que la media y la mediana casi coinciden, mientras que en el algoritmo 2 están más alejadas.\n",
        "Además, podemos ver que en el algoritmo 1 hay más valores que entran al rango de la caja, mientras que en el algoritmo 2 existen muchos valores del rango que se salen de la caja.\n"
      ]
    },
    {
      "cell_type": "markdown",
      "metadata": {
        "id": "vbSpm_t2_FXP",
        "colab_type": "text"
      },
      "source": [
        "3. Un algoritmo genètico es un algoritmo de bùsqueda que utiliza nùmeros aleatorios para generar una población de individuos (o conjunto de soluciones potenciales), los cuales eventualmente se reducen mediante un proceso de cruza y mutaciòn aleatoria. Llevar un conteo de la tasa de cruza o mutaciòn suele ser de interès para medir el desempeño del algoritmo al compararlo con otras tècnicas. Los algoritmos genèticos han sido aplicados exitosamente en problemas de diseño, construcciòn de antenas, ADN, proteìnas, algoritmos de clàsificacion automàtica, etc. Los siguientes datos representan el nùmero de cruzamientos realizados durante la ejecuciòn del algoritmo en 500 posibilidades de cruza por ejecuciòn."
      ]
    },
    {
      "cell_type": "code",
      "metadata": {
        "id": "xWB2QF5-wg8M",
        "colab_type": "code",
        "outputId": "5cad40bc-28c0-4508-dff3-0510e6161e6b",
        "colab": {
          "base_uri": "https://localhost:8080/",
          "height": 297
        }
      },
      "source": [
        "#Leer el archivo de texto de la 3\n",
        "df3 = pd.read_csv('/content/drive/My Drive/Estadística/7Problemas/3.csv')\n",
        "df3"
      ],
      "execution_count": 55,
      "outputs": [
        {
          "output_type": "execute_result",
          "data": {
            "text/html": [
              "<div>\n",
              "<style scoped>\n",
              "    .dataframe tbody tr th:only-of-type {\n",
              "        vertical-align: middle;\n",
              "    }\n",
              "\n",
              "    .dataframe tbody tr th {\n",
              "        vertical-align: top;\n",
              "    }\n",
              "\n",
              "    .dataframe thead th {\n",
              "        text-align: right;\n",
              "    }\n",
              "</style>\n",
              "<table border=\"1\" class=\"dataframe\">\n",
              "  <thead>\n",
              "    <tr style=\"text-align: right;\">\n",
              "      <th></th>\n",
              "      <th>Algoritmo1</th>\n",
              "      <th>Algoritmo2</th>\n",
              "    </tr>\n",
              "  </thead>\n",
              "  <tbody>\n",
              "    <tr>\n",
              "      <th>0</th>\n",
              "      <td>400.0</td>\n",
              "      <td>320</td>\n",
              "    </tr>\n",
              "    <tr>\n",
              "      <th>1</th>\n",
              "      <td>200.0</td>\n",
              "      <td>350</td>\n",
              "    </tr>\n",
              "    <tr>\n",
              "      <th>2</th>\n",
              "      <td>350.0</td>\n",
              "      <td>300</td>\n",
              "    </tr>\n",
              "    <tr>\n",
              "      <th>3</th>\n",
              "      <td>450.0</td>\n",
              "      <td>280</td>\n",
              "    </tr>\n",
              "    <tr>\n",
              "      <th>4</th>\n",
              "      <td>480.0</td>\n",
              "      <td>290</td>\n",
              "    </tr>\n",
              "    <tr>\n",
              "      <th>5</th>\n",
              "      <td>360.0</td>\n",
              "      <td>300</td>\n",
              "    </tr>\n",
              "    <tr>\n",
              "      <th>6</th>\n",
              "      <td>100.0</td>\n",
              "      <td>320</td>\n",
              "    </tr>\n",
              "    <tr>\n",
              "      <th>7</th>\n",
              "      <td>NaN</td>\n",
              "      <td>400</td>\n",
              "    </tr>\n",
              "  </tbody>\n",
              "</table>\n",
              "</div>"
            ],
            "text/plain": [
              "   Algoritmo1  Algoritmo2\n",
              "0       400.0         320\n",
              "1       200.0         350\n",
              "2       350.0         300\n",
              "3       450.0         280\n",
              "4       480.0         290\n",
              "5       360.0         300\n",
              "6       100.0         320\n",
              "7         NaN         400"
            ]
          },
          "metadata": {
            "tags": []
          },
          "execution_count": 55
        }
      ]
    },
    {
      "cell_type": "markdown",
      "metadata": {
        "id": "fRMpUdlh_N1b",
        "colab_type": "text"
      },
      "source": [
        "a) Calcule la media, el rango y la desviaciòn estàndar de los datos."
      ]
    },
    {
      "cell_type": "code",
      "metadata": {
        "id": "LM8PcgFP_QmX",
        "colab_type": "code",
        "colab": {}
      },
      "source": [
        "m3 = df3.mean(axis = 0, skipna = True)\n",
        "s3 = df3.std(axis = 0, skipna = True)\n",
        "r = df3.max(axis = 0, skipna = True) - df3.min(axis = 0, skipna = True)"
      ],
      "execution_count": 0,
      "outputs": []
    },
    {
      "cell_type": "code",
      "metadata": {
        "id": "15ow6ehL_qKr",
        "colab_type": "code",
        "outputId": "6742e9f7-0973-480c-f474-89999fa4608b",
        "colab": {
          "base_uri": "https://localhost:8080/",
          "height": 68
        }
      },
      "source": [
        "m3"
      ],
      "execution_count": 57,
      "outputs": [
        {
          "output_type": "execute_result",
          "data": {
            "text/plain": [
              "Algoritmo1    334.285714\n",
              "Algoritmo2    320.000000\n",
              "dtype: float64"
            ]
          },
          "metadata": {
            "tags": []
          },
          "execution_count": 57
        }
      ]
    },
    {
      "cell_type": "code",
      "metadata": {
        "id": "lX9TFMCp_rgI",
        "colab_type": "code",
        "outputId": "d0f63b85-e756-4f05-e7b1-a4d0803e1ebb",
        "colab": {
          "base_uri": "https://localhost:8080/",
          "height": 68
        }
      },
      "source": [
        "s3"
      ],
      "execution_count": 58,
      "outputs": [
        {
          "output_type": "execute_result",
          "data": {
            "text/plain": [
              "Algoritmo1    137.095726\n",
              "Algoritmo2     38.913824\n",
              "dtype: float64"
            ]
          },
          "metadata": {
            "tags": []
          },
          "execution_count": 58
        }
      ]
    },
    {
      "cell_type": "code",
      "metadata": {
        "id": "Xzy7gqdI_svU",
        "colab_type": "code",
        "outputId": "8ec92b90-2d93-44f8-bd63-4f3373c3fb4b",
        "colab": {
          "base_uri": "https://localhost:8080/",
          "height": 68
        }
      },
      "source": [
        "r"
      ],
      "execution_count": 59,
      "outputs": [
        {
          "output_type": "execute_result",
          "data": {
            "text/plain": [
              "Algoritmo1    380.0\n",
              "Algoritmo2    120.0\n",
              "dtype: float64"
            ]
          },
          "metadata": {
            "tags": []
          },
          "execution_count": 59
        }
      ]
    },
    {
      "cell_type": "markdown",
      "metadata": {
        "id": "B-IyVMeT_6Ng",
        "colab_type": "text"
      },
      "source": [
        "b) ¿Qué algoritmo presenta mayor variabilidad? ¿Las diferencias son significativas?"
      ]
    },
    {
      "cell_type": "code",
      "metadata": {
        "id": "NQ8_q6ZJAPy7",
        "colab_type": "code",
        "outputId": "2362da71-8115-488a-fcb4-d4d5409b57a8",
        "colab": {
          "base_uri": "https://localhost:8080/",
          "height": 68
        }
      },
      "source": [
        "V3 = s3**2\n",
        "V3"
      ],
      "execution_count": 60,
      "outputs": [
        {
          "output_type": "execute_result",
          "data": {
            "text/plain": [
              "Algoritmo1    18795.238095\n",
              "Algoritmo2     1514.285714\n",
              "dtype: float64"
            ]
          },
          "metadata": {
            "tags": []
          },
          "execution_count": 60
        }
      ]
    },
    {
      "cell_type": "markdown",
      "metadata": {
        "id": "kabzZRM8AWiT",
        "colab_type": "text"
      },
      "source": [
        "El algoritmo 2 presenta la mayor variabilidad. Y sí; las diferencias son del orden 10."
      ]
    },
    {
      "cell_type": "markdown",
      "metadata": {
        "id": "gG7RKCALAf_L",
        "colab_type": "text"
      },
      "source": [
        "c) ¿Què algoritmo tuvo mayor dispersiòn del total de cruzamientos?\n",
        "\n",
        "\n",
        "El algoritmo 1 en definitiva. Su varianza y su desviación fueron mayores."
      ]
    },
    {
      "cell_type": "markdown",
      "metadata": {
        "id": "e42iIMHZAkfg",
        "colab_type": "text"
      },
      "source": [
        "d) Considerando que entre màs alta sea la tasa de cruzamiento (total de cruzas 500) el desempeño es mejor, ¿què algoritmo resulta más conveniente? \n",
        "\n",
        "El algoritmo 1, puesto que su media fue mayor.\n"
      ]
    },
    {
      "cell_type": "markdown",
      "metadata": {
        "id": "xdvTZiebApQw",
        "colab_type": "text"
      },
      "source": [
        "4. En el problema anterior considere el nùmero de cruzamientos con un tercer algoritmo"
      ]
    },
    {
      "cell_type": "code",
      "metadata": {
        "id": "RuXYlNGcwg8k",
        "colab_type": "code",
        "outputId": "02f3e42a-d2e9-4c80-f125-4337e32784b0",
        "colab": {
          "base_uri": "https://localhost:8080/",
          "height": 452
        }
      },
      "source": [
        "#Agregando el 3er algoritmo de la 4\n",
        "df4 = pd.read_csv('/content/drive/My Drive/Estadística/7Problemas/4.csv')\n",
        "df4"
      ],
      "execution_count": 61,
      "outputs": [
        {
          "output_type": "execute_result",
          "data": {
            "text/html": [
              "<div>\n",
              "<style scoped>\n",
              "    .dataframe tbody tr th:only-of-type {\n",
              "        vertical-align: middle;\n",
              "    }\n",
              "\n",
              "    .dataframe tbody tr th {\n",
              "        vertical-align: top;\n",
              "    }\n",
              "\n",
              "    .dataframe thead th {\n",
              "        text-align: right;\n",
              "    }\n",
              "</style>\n",
              "<table border=\"1\" class=\"dataframe\">\n",
              "  <thead>\n",
              "    <tr style=\"text-align: right;\">\n",
              "      <th></th>\n",
              "      <th>Algoritmo1</th>\n",
              "      <th>Algoritmo2</th>\n",
              "      <th>Algoritmo3</th>\n",
              "    </tr>\n",
              "  </thead>\n",
              "  <tbody>\n",
              "    <tr>\n",
              "      <th>0</th>\n",
              "      <td>400.0</td>\n",
              "      <td>320.0</td>\n",
              "      <td>450</td>\n",
              "    </tr>\n",
              "    <tr>\n",
              "      <th>1</th>\n",
              "      <td>200.0</td>\n",
              "      <td>350.0</td>\n",
              "      <td>400</td>\n",
              "    </tr>\n",
              "    <tr>\n",
              "      <th>2</th>\n",
              "      <td>350.0</td>\n",
              "      <td>300.0</td>\n",
              "      <td>100</td>\n",
              "    </tr>\n",
              "    <tr>\n",
              "      <th>3</th>\n",
              "      <td>450.0</td>\n",
              "      <td>280.0</td>\n",
              "      <td>140</td>\n",
              "    </tr>\n",
              "    <tr>\n",
              "      <th>4</th>\n",
              "      <td>480.0</td>\n",
              "      <td>290.0</td>\n",
              "      <td>300</td>\n",
              "    </tr>\n",
              "    <tr>\n",
              "      <th>5</th>\n",
              "      <td>360.0</td>\n",
              "      <td>300.0</td>\n",
              "      <td>200</td>\n",
              "    </tr>\n",
              "    <tr>\n",
              "      <th>6</th>\n",
              "      <td>100.0</td>\n",
              "      <td>320.0</td>\n",
              "      <td>120</td>\n",
              "    </tr>\n",
              "    <tr>\n",
              "      <th>7</th>\n",
              "      <td>NaN</td>\n",
              "      <td>400.0</td>\n",
              "      <td>100</td>\n",
              "    </tr>\n",
              "    <tr>\n",
              "      <th>8</th>\n",
              "      <td>NaN</td>\n",
              "      <td>NaN</td>\n",
              "      <td>80</td>\n",
              "    </tr>\n",
              "    <tr>\n",
              "      <th>9</th>\n",
              "      <td>NaN</td>\n",
              "      <td>NaN</td>\n",
              "      <td>490</td>\n",
              "    </tr>\n",
              "    <tr>\n",
              "      <th>10</th>\n",
              "      <td>NaN</td>\n",
              "      <td>NaN</td>\n",
              "      <td>460</td>\n",
              "    </tr>\n",
              "    <tr>\n",
              "      <th>11</th>\n",
              "      <td>NaN</td>\n",
              "      <td>NaN</td>\n",
              "      <td>490</td>\n",
              "    </tr>\n",
              "    <tr>\n",
              "      <th>12</th>\n",
              "      <td>NaN</td>\n",
              "      <td>NaN</td>\n",
              "      <td>395</td>\n",
              "    </tr>\n",
              "  </tbody>\n",
              "</table>\n",
              "</div>"
            ],
            "text/plain": [
              "    Algoritmo1  Algoritmo2  Algoritmo3\n",
              "0        400.0       320.0         450\n",
              "1        200.0       350.0         400\n",
              "2        350.0       300.0         100\n",
              "3        450.0       280.0         140\n",
              "4        480.0       290.0         300\n",
              "5        360.0       300.0         200\n",
              "6        100.0       320.0         120\n",
              "7          NaN       400.0         100\n",
              "8          NaN         NaN          80\n",
              "9          NaN         NaN         490\n",
              "10         NaN         NaN         460\n",
              "11         NaN         NaN         490\n",
              "12         NaN         NaN         395"
            ]
          },
          "metadata": {
            "tags": []
          },
          "execution_count": 61
        }
      ]
    },
    {
      "cell_type": "markdown",
      "metadata": {
        "id": "i_L12rygAxI_",
        "colab_type": "text"
      },
      "source": [
        "a) Calcule la media, rango y desviaciòn estándar y explique cuàl de los tres algoritmos cree usted que es el mejor y por què"
      ]
    },
    {
      "cell_type": "code",
      "metadata": {
        "id": "vvCEnjDjuRBx",
        "colab_type": "code",
        "colab": {}
      },
      "source": [
        "#Calculando la media, el rango y la desviación estándar\n",
        "\n",
        "m4 = df4.mean(axis = 0, skipna = True)\n",
        "\n",
        "r4 = df4.max(axis = 0, skipna = True) - df4.min(axis = 0, skipna = True)\n",
        "\n",
        "s4 = df4.std(axis = 0, skipna = True)"
      ],
      "execution_count": 0,
      "outputs": []
    },
    {
      "cell_type": "code",
      "metadata": {
        "id": "ue1z9-wMusaR",
        "colab_type": "code",
        "colab": {
          "base_uri": "https://localhost:8080/",
          "height": 85
        },
        "outputId": "8f551a21-9c41-4c51-eada-fc7e9e1f8bed"
      },
      "source": [
        "m4"
      ],
      "execution_count": 63,
      "outputs": [
        {
          "output_type": "execute_result",
          "data": {
            "text/plain": [
              "Algoritmo1    334.285714\n",
              "Algoritmo2    320.000000\n",
              "Algoritmo3    286.538462\n",
              "dtype: float64"
            ]
          },
          "metadata": {
            "tags": []
          },
          "execution_count": 63
        }
      ]
    },
    {
      "cell_type": "code",
      "metadata": {
        "id": "HQNEs127utdt",
        "colab_type": "code",
        "colab": {
          "base_uri": "https://localhost:8080/",
          "height": 85
        },
        "outputId": "9bf1f9dd-b1f1-445c-acf1-23f1539678df"
      },
      "source": [
        "r4"
      ],
      "execution_count": 64,
      "outputs": [
        {
          "output_type": "execute_result",
          "data": {
            "text/plain": [
              "Algoritmo1    380.0\n",
              "Algoritmo2    120.0\n",
              "Algoritmo3    410.0\n",
              "dtype: float64"
            ]
          },
          "metadata": {
            "tags": []
          },
          "execution_count": 64
        }
      ]
    },
    {
      "cell_type": "code",
      "metadata": {
        "id": "WhYB6I48ut7E",
        "colab_type": "code",
        "colab": {
          "base_uri": "https://localhost:8080/",
          "height": 85
        },
        "outputId": "8c84fdf3-7382-42b8-871f-398398c49a6e"
      },
      "source": [
        "s4"
      ],
      "execution_count": 65,
      "outputs": [
        {
          "output_type": "execute_result",
          "data": {
            "text/plain": [
              "Algoritmo1    137.095726\n",
              "Algoritmo2     38.913824\n",
              "Algoritmo3    166.675641\n",
              "dtype: float64"
            ]
          },
          "metadata": {
            "tags": []
          },
          "execution_count": 65
        }
      ]
    },
    {
      "cell_type": "markdown",
      "metadata": {
        "id": "Bk8LTKIxuyY0",
        "colab_type": "text"
      },
      "source": [
        "El algoritmo 2, debido a que su media está tan distanciada del algoritmo 1 (el cual es el más alto), pero su desviación estándar no es elevada ni su rango disperso."
      ]
    },
    {
      "cell_type": "markdown",
      "metadata": {
        "id": "amEqzY5uA143",
        "colab_type": "text"
      },
      "source": [
        "b) Si el interès principal es el promedio de cruzas, què algoritmo es màs confiable en su promedio (no confundir esta pregunta con cuàl algoritmo tiene el promedio más alto).\n",
        "\n",
        "Como la desviación estándar es menor en el algoritmo 2, su promedio es más representativo."
      ]
    },
    {
      "cell_type": "markdown",
      "metadata": {
        "id": "PjCXdrSyA7F1",
        "colab_type": "text"
      },
      "source": [
        "c) Use el SPSS y construya un diagrama de caja triple con los datos de los tres algoritmos y discuta las caracterìsticas sobresalientes en la comparaciòn."
      ]
    },
    {
      "cell_type": "code",
      "metadata": {
        "id": "nsqqVwnfw26b",
        "colab_type": "code",
        "colab": {
          "base_uri": "https://localhost:8080/",
          "height": 1000
        },
        "outputId": "a791e389-66c6-4997-8f10-b62899986a24"
      },
      "source": [
        "n = []\n",
        "\n",
        "for i in range(len(df4['Algoritmo1'])):\n",
        "  n.append(1)\n",
        "\n",
        "\n",
        "for i in range(len(df4['Algoritmo2'])):\n",
        "  n.append(2)\n",
        "\n",
        "for i in range(len(df4['Algoritmo3'])):\n",
        "  n.append(3)\n",
        "\n",
        "Alg = []\n",
        "\n",
        "for i in range(len(df4['Algoritmo1'])):\n",
        "  Alg.append(df4.Algoritmo1[i])\n",
        "\n",
        "\n",
        "for i in range(len(df4['Algoritmo2'])):\n",
        "  Alg.append(df4.Algoritmo2[i])\n",
        "\n",
        "for i in range(len(df4['Algoritmo3'])):\n",
        "  Alg.append(df4.Algoritmo3[i])\n",
        "\n",
        "df42 = pd.DataFrame({'Algoritmo': n, 'Dato': Alg})\n",
        "df42"
      ],
      "execution_count": 66,
      "outputs": [
        {
          "output_type": "execute_result",
          "data": {
            "text/html": [
              "<div>\n",
              "<style scoped>\n",
              "    .dataframe tbody tr th:only-of-type {\n",
              "        vertical-align: middle;\n",
              "    }\n",
              "\n",
              "    .dataframe tbody tr th {\n",
              "        vertical-align: top;\n",
              "    }\n",
              "\n",
              "    .dataframe thead th {\n",
              "        text-align: right;\n",
              "    }\n",
              "</style>\n",
              "<table border=\"1\" class=\"dataframe\">\n",
              "  <thead>\n",
              "    <tr style=\"text-align: right;\">\n",
              "      <th></th>\n",
              "      <th>Algoritmo</th>\n",
              "      <th>Dato</th>\n",
              "    </tr>\n",
              "  </thead>\n",
              "  <tbody>\n",
              "    <tr>\n",
              "      <th>0</th>\n",
              "      <td>1</td>\n",
              "      <td>400.0</td>\n",
              "    </tr>\n",
              "    <tr>\n",
              "      <th>1</th>\n",
              "      <td>1</td>\n",
              "      <td>200.0</td>\n",
              "    </tr>\n",
              "    <tr>\n",
              "      <th>2</th>\n",
              "      <td>1</td>\n",
              "      <td>350.0</td>\n",
              "    </tr>\n",
              "    <tr>\n",
              "      <th>3</th>\n",
              "      <td>1</td>\n",
              "      <td>450.0</td>\n",
              "    </tr>\n",
              "    <tr>\n",
              "      <th>4</th>\n",
              "      <td>1</td>\n",
              "      <td>480.0</td>\n",
              "    </tr>\n",
              "    <tr>\n",
              "      <th>5</th>\n",
              "      <td>1</td>\n",
              "      <td>360.0</td>\n",
              "    </tr>\n",
              "    <tr>\n",
              "      <th>6</th>\n",
              "      <td>1</td>\n",
              "      <td>100.0</td>\n",
              "    </tr>\n",
              "    <tr>\n",
              "      <th>7</th>\n",
              "      <td>1</td>\n",
              "      <td>NaN</td>\n",
              "    </tr>\n",
              "    <tr>\n",
              "      <th>8</th>\n",
              "      <td>1</td>\n",
              "      <td>NaN</td>\n",
              "    </tr>\n",
              "    <tr>\n",
              "      <th>9</th>\n",
              "      <td>1</td>\n",
              "      <td>NaN</td>\n",
              "    </tr>\n",
              "    <tr>\n",
              "      <th>10</th>\n",
              "      <td>1</td>\n",
              "      <td>NaN</td>\n",
              "    </tr>\n",
              "    <tr>\n",
              "      <th>11</th>\n",
              "      <td>1</td>\n",
              "      <td>NaN</td>\n",
              "    </tr>\n",
              "    <tr>\n",
              "      <th>12</th>\n",
              "      <td>1</td>\n",
              "      <td>NaN</td>\n",
              "    </tr>\n",
              "    <tr>\n",
              "      <th>13</th>\n",
              "      <td>2</td>\n",
              "      <td>320.0</td>\n",
              "    </tr>\n",
              "    <tr>\n",
              "      <th>14</th>\n",
              "      <td>2</td>\n",
              "      <td>350.0</td>\n",
              "    </tr>\n",
              "    <tr>\n",
              "      <th>15</th>\n",
              "      <td>2</td>\n",
              "      <td>300.0</td>\n",
              "    </tr>\n",
              "    <tr>\n",
              "      <th>16</th>\n",
              "      <td>2</td>\n",
              "      <td>280.0</td>\n",
              "    </tr>\n",
              "    <tr>\n",
              "      <th>17</th>\n",
              "      <td>2</td>\n",
              "      <td>290.0</td>\n",
              "    </tr>\n",
              "    <tr>\n",
              "      <th>18</th>\n",
              "      <td>2</td>\n",
              "      <td>300.0</td>\n",
              "    </tr>\n",
              "    <tr>\n",
              "      <th>19</th>\n",
              "      <td>2</td>\n",
              "      <td>320.0</td>\n",
              "    </tr>\n",
              "    <tr>\n",
              "      <th>20</th>\n",
              "      <td>2</td>\n",
              "      <td>400.0</td>\n",
              "    </tr>\n",
              "    <tr>\n",
              "      <th>21</th>\n",
              "      <td>2</td>\n",
              "      <td>NaN</td>\n",
              "    </tr>\n",
              "    <tr>\n",
              "      <th>22</th>\n",
              "      <td>2</td>\n",
              "      <td>NaN</td>\n",
              "    </tr>\n",
              "    <tr>\n",
              "      <th>23</th>\n",
              "      <td>2</td>\n",
              "      <td>NaN</td>\n",
              "    </tr>\n",
              "    <tr>\n",
              "      <th>24</th>\n",
              "      <td>2</td>\n",
              "      <td>NaN</td>\n",
              "    </tr>\n",
              "    <tr>\n",
              "      <th>25</th>\n",
              "      <td>2</td>\n",
              "      <td>NaN</td>\n",
              "    </tr>\n",
              "    <tr>\n",
              "      <th>26</th>\n",
              "      <td>3</td>\n",
              "      <td>450.0</td>\n",
              "    </tr>\n",
              "    <tr>\n",
              "      <th>27</th>\n",
              "      <td>3</td>\n",
              "      <td>400.0</td>\n",
              "    </tr>\n",
              "    <tr>\n",
              "      <th>28</th>\n",
              "      <td>3</td>\n",
              "      <td>100.0</td>\n",
              "    </tr>\n",
              "    <tr>\n",
              "      <th>29</th>\n",
              "      <td>3</td>\n",
              "      <td>140.0</td>\n",
              "    </tr>\n",
              "    <tr>\n",
              "      <th>30</th>\n",
              "      <td>3</td>\n",
              "      <td>300.0</td>\n",
              "    </tr>\n",
              "    <tr>\n",
              "      <th>31</th>\n",
              "      <td>3</td>\n",
              "      <td>200.0</td>\n",
              "    </tr>\n",
              "    <tr>\n",
              "      <th>32</th>\n",
              "      <td>3</td>\n",
              "      <td>120.0</td>\n",
              "    </tr>\n",
              "    <tr>\n",
              "      <th>33</th>\n",
              "      <td>3</td>\n",
              "      <td>100.0</td>\n",
              "    </tr>\n",
              "    <tr>\n",
              "      <th>34</th>\n",
              "      <td>3</td>\n",
              "      <td>80.0</td>\n",
              "    </tr>\n",
              "    <tr>\n",
              "      <th>35</th>\n",
              "      <td>3</td>\n",
              "      <td>490.0</td>\n",
              "    </tr>\n",
              "    <tr>\n",
              "      <th>36</th>\n",
              "      <td>3</td>\n",
              "      <td>460.0</td>\n",
              "    </tr>\n",
              "    <tr>\n",
              "      <th>37</th>\n",
              "      <td>3</td>\n",
              "      <td>490.0</td>\n",
              "    </tr>\n",
              "    <tr>\n",
              "      <th>38</th>\n",
              "      <td>3</td>\n",
              "      <td>395.0</td>\n",
              "    </tr>\n",
              "  </tbody>\n",
              "</table>\n",
              "</div>"
            ],
            "text/plain": [
              "    Algoritmo   Dato\n",
              "0           1  400.0\n",
              "1           1  200.0\n",
              "2           1  350.0\n",
              "3           1  450.0\n",
              "4           1  480.0\n",
              "5           1  360.0\n",
              "6           1  100.0\n",
              "7           1    NaN\n",
              "8           1    NaN\n",
              "9           1    NaN\n",
              "10          1    NaN\n",
              "11          1    NaN\n",
              "12          1    NaN\n",
              "13          2  320.0\n",
              "14          2  350.0\n",
              "15          2  300.0\n",
              "16          2  280.0\n",
              "17          2  290.0\n",
              "18          2  300.0\n",
              "19          2  320.0\n",
              "20          2  400.0\n",
              "21          2    NaN\n",
              "22          2    NaN\n",
              "23          2    NaN\n",
              "24          2    NaN\n",
              "25          2    NaN\n",
              "26          3  450.0\n",
              "27          3  400.0\n",
              "28          3  100.0\n",
              "29          3  140.0\n",
              "30          3  300.0\n",
              "31          3  200.0\n",
              "32          3  120.0\n",
              "33          3  100.0\n",
              "34          3   80.0\n",
              "35          3  490.0\n",
              "36          3  460.0\n",
              "37          3  490.0\n",
              "38          3  395.0"
            ]
          },
          "metadata": {
            "tags": []
          },
          "execution_count": 66
        }
      ]
    },
    {
      "cell_type": "code",
      "metadata": {
        "id": "_2RGibUGvg10",
        "colab_type": "code",
        "colab": {
          "base_uri": "https://localhost:8080/",
          "height": 721
        },
        "outputId": "26c5f6b7-cc86-477f-89d7-18cb5ecaf6cf"
      },
      "source": [
        "#Graficando\n",
        "sns.boxplot(x = 'Algoritmo', y=\"Dato\", data=df42, color = 'gray')\n",
        "plt.xlabel(r'Algoritmos', fontsize = 14)\n",
        "plt.ylabel(r'Tasa de cruzas', fontsize = 14)\n",
        "sns.despine()\n",
        "fig1.savefig('/content/drive/My Drive/Estadística/7Problemas/Algoritmos4.png', dpi=300)\n",
        "plt.show()"
      ],
      "execution_count": 127,
      "outputs": [
        {
          "output_type": "display_data",
          "data": {
            "image/png": "[encoded data removed]",
            "text/plain": [
              "<Figure size 864x864 with 1 Axes>"
            ]
          },
          "metadata": {
            "tags": []
          }
        }
      ]
    },
    {
      "cell_type": "markdown",
      "metadata": {
        "id": "vk2v8cMzzUSp",
        "colab_type": "text"
      },
      "source": [
        "Se puede observar que para el algoritmo 1 los datos tienen más peso hacia la derecha, además de que la media está más alejada de la mediana que en los otros casos, además, en el algoritmo 2 vemos que muy pocos datos del rango están dentro del rectángulo, lo que indica una mayor dispersión, y por último, en el algoritmo 3, podemos ver un comportamiento muy uniforme, ya que la media es muy cercana a la mediana y casi todos los datos pertenecen al rectángulo. "
      ]
    },
    {
      "cell_type": "markdown",
      "metadata": {
        "id": "0tVGQpSVBF6F",
        "colab_type": "text"
      },
      "source": [
        "5. Suponga que en una muestra con n = 30 datos, la media resultó 60 y la cuasivarianza 10. ¿Cuàl es la varianza y desviaciòn estàndar muestral?\n",
        "\n",
        "\n",
        " Si tenemos que la varianza se calcula como\n",
        " \n",
        "\n",
        " $s^2 = \\frac{\\sum_{i = 1}^n x_i^2 - n\\overline{x}^2}{n-1}$\n",
        " \n",
        "Entonces la cuasivarianza se calcularía como\n",
        "\n",
        "\n",
        " $cs^2 = \\frac{\\sum_{i = 1}^n x_i^2 - n\\overline{x}^2}{n}$\n",
        " \n",
        " \n",
        "Como ambas fórmulas tienen el mismo término en la parte del numerador, se nombra “A” en ambos casos\n",
        "\n",
        "$s^2 = \\frac{A}{n-1}$\n",
        "\n",
        "$cs^2 = \\frac{A}{n}$\n",
        "\n",
        "Se despeja A de ambas fórmulas y se igualan las ecuaciones\n",
        "\n",
        "$(n-1)s^2= A$\n",
        "\n",
        "$ncs^2=A$\n",
        "   \n",
        "$(n-1)s^2 = ncs^2$ \n",
        "\n",
        "Se despeja $s^2$\n",
        "\n",
        "\n",
        "$s^2 =\\frac{ncs^2}{n-1}$\n",
        "\n",
        "\n",
        "\n",
        "Resultando en $s^2 = 10.34482759$\n",
        "\n",
        "\n",
        "Para obtener la desviación estándar, se saca la raíz cuadrada\n",
        "\n",
        " $s = 3.216337605$\n"
      ]
    },
    {
      "cell_type": "markdown",
      "metadata": {
        "id": "XhXYqq9vBJb_",
        "colab_type": "text"
      },
      "source": [
        "6. Sabemos que por conveniencia matemàtica, el indicador preferido para medir la variación de los datos es la varianza (función cuadrática) que nos da una medida representativa o promedio de las desviaciones al cuadrado de cada dato con respecto a su media. Lo anterior se debe a que la función cuadrática es más fácil de manejar algebraicamente que la función valor absoluto. Sin embargo, en algunas aplicaciones la desviación absoluta representa un error de medición (sin signo) y puede ser un mejor índice de medición física en lugar de la desviación estándar. Por ejemplo, suponga que los datos representan las mediciones de un termómetro a calibrar su temperatura a exactamente 0 C en el proceso de fabricaciòn, es decir, si el termómetro está bien calibrado, la temperatura que debe marcar en la prueba siempre de ser cero. Las temperaturas medidas en 16 termómetros diferentes son:"
      ]
    },
    {
      "cell_type": "code",
      "metadata": {
        "id": "iJxo_25vwg88",
        "colab_type": "code",
        "outputId": "5c1efc72-e322-406b-93f1-eb38ef725a7b",
        "colab": {
          "base_uri": "https://localhost:8080/",
          "height": 545
        }
      },
      "source": [
        "#Leyendo los datos de la 6\n",
        "df6 = pd.read_csv('/content/drive/My Drive/Estadística/7Problemas/6.csv')\n",
        "df6"
      ],
      "execution_count": 68,
      "outputs": [
        {
          "output_type": "execute_result",
          "data": {
            "text/html": [
              "<div>\n",
              "<style scoped>\n",
              "    .dataframe tbody tr th:only-of-type {\n",
              "        vertical-align: middle;\n",
              "    }\n",
              "\n",
              "    .dataframe tbody tr th {\n",
              "        vertical-align: top;\n",
              "    }\n",
              "\n",
              "    .dataframe thead th {\n",
              "        text-align: right;\n",
              "    }\n",
              "</style>\n",
              "<table border=\"1\" class=\"dataframe\">\n",
              "  <thead>\n",
              "    <tr style=\"text-align: right;\">\n",
              "      <th></th>\n",
              "      <th>Temperatura</th>\n",
              "    </tr>\n",
              "  </thead>\n",
              "  <tbody>\n",
              "    <tr>\n",
              "      <th>0</th>\n",
              "      <td>2.00</td>\n",
              "    </tr>\n",
              "    <tr>\n",
              "      <th>1</th>\n",
              "      <td>0.00</td>\n",
              "    </tr>\n",
              "    <tr>\n",
              "      <th>2</th>\n",
              "      <td>1.50</td>\n",
              "    </tr>\n",
              "    <tr>\n",
              "      <th>3</th>\n",
              "      <td>-2.00</td>\n",
              "    </tr>\n",
              "    <tr>\n",
              "      <th>4</th>\n",
              "      <td>0.00</td>\n",
              "    </tr>\n",
              "    <tr>\n",
              "      <th>5</th>\n",
              "      <td>-3.20</td>\n",
              "    </tr>\n",
              "    <tr>\n",
              "      <th>6</th>\n",
              "      <td>1.00</td>\n",
              "    </tr>\n",
              "    <tr>\n",
              "      <th>7</th>\n",
              "      <td>4.00</td>\n",
              "    </tr>\n",
              "    <tr>\n",
              "      <th>8</th>\n",
              "      <td>0.00</td>\n",
              "    </tr>\n",
              "    <tr>\n",
              "      <th>9</th>\n",
              "      <td>-3.10</td>\n",
              "    </tr>\n",
              "    <tr>\n",
              "      <th>10</th>\n",
              "      <td>-1.20</td>\n",
              "    </tr>\n",
              "    <tr>\n",
              "      <th>11</th>\n",
              "      <td>1.00</td>\n",
              "    </tr>\n",
              "    <tr>\n",
              "      <th>12</th>\n",
              "      <td>-0.43</td>\n",
              "    </tr>\n",
              "    <tr>\n",
              "      <th>13</th>\n",
              "      <td>1.80</td>\n",
              "    </tr>\n",
              "    <tr>\n",
              "      <th>14</th>\n",
              "      <td>0.05</td>\n",
              "    </tr>\n",
              "    <tr>\n",
              "      <th>15</th>\n",
              "      <td>-0.01</td>\n",
              "    </tr>\n",
              "  </tbody>\n",
              "</table>\n",
              "</div>"
            ],
            "text/plain": [
              "    Temperatura\n",
              "0          2.00\n",
              "1          0.00\n",
              "2          1.50\n",
              "3         -2.00\n",
              "4          0.00\n",
              "5         -3.20\n",
              "6          1.00\n",
              "7          4.00\n",
              "8          0.00\n",
              "9         -3.10\n",
              "10        -1.20\n",
              "11         1.00\n",
              "12        -0.43\n",
              "13         1.80\n",
              "14         0.05\n",
              "15        -0.01"
            ]
          },
          "metadata": {
            "tags": []
          },
          "execution_count": 68
        }
      ]
    },
    {
      "cell_type": "code",
      "metadata": {
        "id": "C_JkG-n1Bgew",
        "colab_type": "code",
        "colab": {}
      },
      "source": [
        "#Calculando la media, la desviación estándar, la varianza, la desviación promedio absoluta y el rango\n",
        "m6 = df6.mean(axis = 0, skipna = True)\n",
        "s6 = df6.std(axis = 0, skipna = True)\n",
        "v6 = s6**2\n",
        "sa6 = df6.mad(axis = 0, skipna = True)\n",
        "r6 = df6.max(axis = 0, skipna = True) - df6.min(axis = 0, skipna = True)"
      ],
      "execution_count": 0,
      "outputs": []
    },
    {
      "cell_type": "code",
      "metadata": {
        "id": "QdnHGg87CMtq",
        "colab_type": "code",
        "colab": {
          "base_uri": "https://localhost:8080/",
          "height": 68
        },
        "outputId": "4a855b65-7660-428d-a311-6045554ec2b7"
      },
      "source": [
        "#Media\n",
        "m6"
      ],
      "execution_count": 70,
      "outputs": [
        {
          "output_type": "execute_result",
          "data": {
            "text/plain": [
              "Temperatura    0.088125\n",
              "dtype: float64"
            ]
          },
          "metadata": {
            "tags": []
          },
          "execution_count": 32
        },
        {
          "output_type": "execute_result",
          "data": {
            "text/plain": [
              "Temperatura    0.088125\n",
              "dtype: float64"
            ]
          },
          "metadata": {
            "tags": []
          },
          "execution_count": 70
        }
      ]
    },
    {
      "cell_type": "code",
      "metadata": {
        "id": "Z1DJl-3JCO3O",
        "colab_type": "code",
        "colab": {
          "base_uri": "https://localhost:8080/",
          "height": 68
        },
        "outputId": "00f7ffdd-c2bf-4e05-88da-141b95fb5287"
      },
      "source": [
        "#Desviación estándar\n",
        "s6"
      ],
      "execution_count": 71,
      "outputs": [
        {
          "output_type": "execute_result",
          "data": {
            "text/plain": [
              "Temperatura    1.876934\n",
              "dtype: float64"
            ]
          },
          "metadata": {
            "tags": []
          },
          "execution_count": 33
        },
        {
          "output_type": "execute_result",
          "data": {
            "text/plain": [
              "Temperatura    1.876934\n",
              "dtype: float64"
            ]
          },
          "metadata": {
            "tags": []
          },
          "execution_count": 71
        }
      ]
    },
    {
      "cell_type": "code",
      "metadata": {
        "id": "ervWhKCXCQdR",
        "colab_type": "code",
        "colab": {
          "base_uri": "https://localhost:8080/",
          "height": 68
        },
        "outputId": "817ad410-c9f6-463c-bb9e-a50cb0f9402f"
      },
      "source": [
        "#Varianza\n",
        "v6"
      ],
      "execution_count": 72,
      "outputs": [
        {
          "output_type": "execute_result",
          "data": {
            "text/plain": [
              "Temperatura    3.522883\n",
              "dtype: float64"
            ]
          },
          "metadata": {
            "tags": []
          },
          "execution_count": 34
        },
        {
          "output_type": "execute_result",
          "data": {
            "text/plain": [
              "Temperatura    3.522883\n",
              "dtype: float64"
            ]
          },
          "metadata": {
            "tags": []
          },
          "execution_count": 72
        }
      ]
    },
    {
      "cell_type": "code",
      "metadata": {
        "id": "OssrPfPECRkd",
        "colab_type": "code",
        "colab": {
          "base_uri": "https://localhost:8080/",
          "height": 68
        },
        "outputId": "09758cf4-2a20-4e05-889e-56eb15ff92da"
      },
      "source": [
        "#Desviación promedio absoluta\n",
        "sa6"
      ],
      "execution_count": 73,
      "outputs": [
        {
          "output_type": "execute_result",
          "data": {
            "text/plain": [
              "Temperatura    1.346406\n",
              "dtype: float64"
            ]
          },
          "metadata": {
            "tags": []
          },
          "execution_count": 35
        },
        {
          "output_type": "execute_result",
          "data": {
            "text/plain": [
              "Temperatura    1.346406\n",
              "dtype: float64"
            ]
          },
          "metadata": {
            "tags": []
          },
          "execution_count": 73
        }
      ]
    },
    {
      "cell_type": "code",
      "metadata": {
        "id": "Ivxtyk4jCa7u",
        "colab_type": "code",
        "colab": {
          "base_uri": "https://localhost:8080/",
          "height": 68
        },
        "outputId": "8a2cb302-b8a7-4970-f2c5-b7eb74951cc9"
      },
      "source": [
        "#Rango\n",
        "r6"
      ],
      "execution_count": 74,
      "outputs": [
        {
          "output_type": "execute_result",
          "data": {
            "text/plain": [
              "Temperatura    7.2\n",
              "dtype: float64"
            ]
          },
          "metadata": {
            "tags": []
          },
          "execution_count": 36
        },
        {
          "output_type": "execute_result",
          "data": {
            "text/plain": [
              "Temperatura    7.2\n",
              "dtype: float64"
            ]
          },
          "metadata": {
            "tags": []
          },
          "execution_count": 74
        }
      ]
    },
    {
      "cell_type": "markdown",
      "metadata": {
        "id": "3qnuLxwlFKQG",
        "colab_type": "text"
      },
      "source": [
        "a) Sugieren los datos que los termómetros están calibrados a temperatura ideal ¿si, no y por qué?\n",
        "\n",
        "A simple vista, con los datos registrados, se ve que arrojan valores muy diversos, llegando a ser 0 solo en una ocasión de las 12, bajo esta primera vista, parece ser que el termómetro no está bien calibrado, casi ningún dato concuerda con el esperado "
      ]
    },
    {
      "cell_type": "markdown",
      "metadata": {
        "id": "mYZZ1csvAUtB",
        "colab_type": "text"
      },
      "source": [
        "b) ¿Sugieren los datos que en promedio la muestra de termómetros están bien calibrados? ¿Qué tanto se desvía de la temperatura ideal? ¿Es esta desviación un valor que debe preocupar a los fabricantes?  \n",
        "\n",
        "\n",
        "Se puede observar que la media es igual a -0.0325. Si el termómetro estuviera bien calibrado, tendríamos que el promedio sería 0, pero no es el caso, por lo que aún no está del todo bien calibrado, aun así, este valor no debería de ser preocupante para los fabricantes.\n",
        "\n",
        "\n",
        "Por otro lado, usando la media muestral y poniendo un intervalo de confianza, se tiene que ese rango contiene al 0, por lo tanto bajo esas condiciones si estaría calibrado dentro de lo aceptable.\n",
        "\n",
        "\n",
        "\n"
      ]
    },
    {
      "cell_type": "markdown",
      "metadata": {
        "id": "ioElGr-FC6z7",
        "colab_type": "text"
      },
      "source": [
        "c) Calcule la desviación absoluta promedio con respecto a la media muestral y la desviación absoluta con respecto a la temperatura ideal. ¿Cuál desviaciòn es mejor para medir la calibraciòn de los termómetros? \n",
        "\n"
      ]
    },
    {
      "cell_type": "markdown",
      "metadata": {
        "id": "cdAiujhWDv2x",
        "colab_type": "text"
      },
      "source": [
        "La varianza absoluta medida de la media muestral es 1.1, mientras que la varianza absoluta respecto a la temperatura ideal es de -0.0325, si queremos medir que tan preciso es el instrumento, es mejor utilizar el 1.1, ya que nos habla de que tanto varían los valores del termómetro en sí (depende del instrumento) , y si queremos saber la exactitud, es mejor utilizar el -0.0325, ya que nos dice que tan alejado están los valores del valor ideal que se espera medir (depende de la medida ideal que se quiera) así que es mejor usar la variación respecto a la media para ver la calidad del instrumento. "
      ]
    },
    {
      "cell_type": "markdown",
      "metadata": {
        "id": "T0dIwzrAD2Eq",
        "colab_type": "text"
      },
      "source": [
        "d) En este ejemplo, ¿cuál considera que es una mejor medida física para medir las desviaciones de las temperaturas? ¿La desviaciòn promedio absoluta o la desviaciòn estándar? ¿Por què?\n",
        "\n",
        "Es mejor usar la desviación absoluta promedio, ya que muestra literalmente que tanto se alejan las medidas de la media y saca su promedio, mientras que la desviación estándar trabaja con una formula que es útil operacionalmente pero fisicamente no esta hablando de nada que represente al aparato o al sistema. "
      ]
    },
    {
      "cell_type": "markdown",
      "metadata": {
        "id": "yY7pF3tzEB_r",
        "colab_type": "text"
      },
      "source": [
        "e) Calcule la desviación estándar muestral y diga qué representa"
      ]
    },
    {
      "cell_type": "markdown",
      "metadata": {
        "id": "rTDPOp_yELQl",
        "colab_type": "text"
      },
      "source": [
        "La desviación estándar es de 1.877 y representa cuanto se alejaron las medidas de la media si la muestra fuera muy grande o infinita, además de que es útil para establecer cotas de confianza para detectar errores atípicos en las muestras. "
      ]
    },
    {
      "cell_type": "markdown",
      "metadata": {
        "id": "q0utAj_oER7E",
        "colab_type": "text"
      },
      "source": [
        "f) ¿Con base en la media $\\overline{x}$ y desviación estándar $s$ y desviación absoluta promedio, ¿son los 10 termòmetros de la muestra fabricados por la compañìa aceptables o de buena calidad?\n",
        "\n",
        "Si se usa el criterio de una desviación estándar o una desviación absoluta promedio sumado y restado de la media para obtener un rango de confianza, en ambos casos se ve que se contiene a la temperatura 0, entonces serían termómetros que tendrían una calidad aceptable. \n",
        "\n",
        "g) ¿Con base en la respuesta del inciso anterior, se puede inferir los resultados a todos los termómetros fabricados por la compañía? Si la respuesta es no, explique por qué. En este caso, comente que habría que realizar para extender los resultados hacia toda la población de termómetros. Aquí el detalle es que la media muestral $x$ y varianza muestral $s^2$ sólo representan a los 10 termómetros analizados. La estadística inferencial pretende ir más allá; caracterizar a toda la poblaciòn.\n",
        "\n",
        "\n",
        "Si se quiere representar a toda la población de termómetros se tiene que obtener los valores de los parámetros $\\mu$ y $\\sigma^2$ . \n",
        "\n",
        "Para el caso de la varianza, se sabe que $s^2$ es un estimador insesgado de $\\sigma^2$ , por lo tanto, se puede afirmar que\n",
        "\n",
        " $\\sigma^2 = s^2$\n",
        "\n",
        "También se sabe que la media muestral es un estimador insesgado de la media poblacional, entonces se puede decir que\n",
        "\n",
        "\n",
        " $\\mu = \\overline{x}$ \n",
        " \n",
        "De esta manera ya se tiene la información sobre la población de termómetros, y se puede afirmar que por los valores que obtenidos anteriormente, son de buena calidad. "
      ]
    },
    {
      "cell_type": "markdown",
      "metadata": {
        "id": "tnZ7wk5OqNTi",
        "colab_type": "text"
      },
      "source": [
        "7. (Ejemplo tomado del libro de Jay Devore, p.37) Localizar puntos alejados. Los efectos de descargas parciales en la degradación de materiales para cavidades aislantes tienen implicaciones importantes en relación con las duraciones de componentes de alto voltaje, Considere la siguiente muestra de $n = 25$ anchos de pulso de descargas lentas en una cavidad cilìndrica de polietileno. Un artìculo publicado señala el impacto de una amplia variedad de herramientas estadìsticas en la interpretación de datos de descarga, entre ellos el anàlisis de la distribuciòn, dispersiòn y simetrìa mediante un diagrama de caja. \n",
        "\n",
        "Datos de descarga parcial (voltajes) en la degradaciòn de materiales para cavidades aislantes\n"
      ]
    },
    {
      "cell_type": "code",
      "metadata": {
        "id": "3KD1QsFR4CME",
        "colab_type": "code",
        "colab": {
          "base_uri": "https://localhost:8080/",
          "height": 824
        },
        "outputId": "99b76489-135e-4930-b419-976427a5e656"
      },
      "source": [
        "#Leyendo los datos de la 7\n",
        "df7 = pd.read_csv('/content/drive/My Drive/Estadística/7Problemas/7.csv')\n",
        "df7"
      ],
      "execution_count": 85,
      "outputs": [
        {
          "output_type": "execute_result",
          "data": {
            "text/html": [
              "<div>\n",
              "<style scoped>\n",
              "    .dataframe tbody tr th:only-of-type {\n",
              "        vertical-align: middle;\n",
              "    }\n",
              "\n",
              "    .dataframe tbody tr th {\n",
              "        vertical-align: top;\n",
              "    }\n",
              "\n",
              "    .dataframe thead th {\n",
              "        text-align: right;\n",
              "    }\n",
              "</style>\n",
              "<table border=\"1\" class=\"dataframe\">\n",
              "  <thead>\n",
              "    <tr style=\"text-align: right;\">\n",
              "      <th></th>\n",
              "      <th>Voltajes</th>\n",
              "    </tr>\n",
              "  </thead>\n",
              "  <tbody>\n",
              "    <tr>\n",
              "      <th>0</th>\n",
              "      <td>5.3</td>\n",
              "    </tr>\n",
              "    <tr>\n",
              "      <th>1</th>\n",
              "      <td>8.2</td>\n",
              "    </tr>\n",
              "    <tr>\n",
              "      <th>2</th>\n",
              "      <td>13.8</td>\n",
              "    </tr>\n",
              "    <tr>\n",
              "      <th>3</th>\n",
              "      <td>74.1</td>\n",
              "    </tr>\n",
              "    <tr>\n",
              "      <th>4</th>\n",
              "      <td>85.3</td>\n",
              "    </tr>\n",
              "    <tr>\n",
              "      <th>5</th>\n",
              "      <td>88.0</td>\n",
              "    </tr>\n",
              "    <tr>\n",
              "      <th>6</th>\n",
              "      <td>90.2</td>\n",
              "    </tr>\n",
              "    <tr>\n",
              "      <th>7</th>\n",
              "      <td>91.5</td>\n",
              "    </tr>\n",
              "    <tr>\n",
              "      <th>8</th>\n",
              "      <td>92.4</td>\n",
              "    </tr>\n",
              "    <tr>\n",
              "      <th>9</th>\n",
              "      <td>92.9</td>\n",
              "    </tr>\n",
              "    <tr>\n",
              "      <th>10</th>\n",
              "      <td>93.6</td>\n",
              "    </tr>\n",
              "    <tr>\n",
              "      <th>11</th>\n",
              "      <td>94.3</td>\n",
              "    </tr>\n",
              "    <tr>\n",
              "      <th>12</th>\n",
              "      <td>94.8</td>\n",
              "    </tr>\n",
              "    <tr>\n",
              "      <th>13</th>\n",
              "      <td>94.9</td>\n",
              "    </tr>\n",
              "    <tr>\n",
              "      <th>14</th>\n",
              "      <td>95.5</td>\n",
              "    </tr>\n",
              "    <tr>\n",
              "      <th>15</th>\n",
              "      <td>95.8</td>\n",
              "    </tr>\n",
              "    <tr>\n",
              "      <th>16</th>\n",
              "      <td>95.9</td>\n",
              "    </tr>\n",
              "    <tr>\n",
              "      <th>17</th>\n",
              "      <td>96.6</td>\n",
              "    </tr>\n",
              "    <tr>\n",
              "      <th>18</th>\n",
              "      <td>97.7</td>\n",
              "    </tr>\n",
              "    <tr>\n",
              "      <th>19</th>\n",
              "      <td>98.1</td>\n",
              "    </tr>\n",
              "    <tr>\n",
              "      <th>20</th>\n",
              "      <td>99.0</td>\n",
              "    </tr>\n",
              "    <tr>\n",
              "      <th>21</th>\n",
              "      <td>101.4</td>\n",
              "    </tr>\n",
              "    <tr>\n",
              "      <th>22</th>\n",
              "      <td>103.7</td>\n",
              "    </tr>\n",
              "    <tr>\n",
              "      <th>23</th>\n",
              "      <td>106.0</td>\n",
              "    </tr>\n",
              "    <tr>\n",
              "      <th>24</th>\n",
              "      <td>113.5</td>\n",
              "    </tr>\n",
              "  </tbody>\n",
              "</table>\n",
              "</div>"
            ],
            "text/plain": [
              "    Voltajes\n",
              "0        5.3\n",
              "1        8.2\n",
              "2       13.8\n",
              "3       74.1\n",
              "4       85.3\n",
              "5       88.0\n",
              "6       90.2\n",
              "7       91.5\n",
              "8       92.4\n",
              "9       92.9\n",
              "10      93.6\n",
              "11      94.3\n",
              "12      94.8\n",
              "13      94.9\n",
              "14      95.5\n",
              "15      95.8\n",
              "16      95.9\n",
              "17      96.6\n",
              "18      97.7\n",
              "19      98.1\n",
              "20      99.0\n",
              "21     101.4\n",
              "22     103.7\n",
              "23     106.0\n",
              "24     113.5"
            ]
          },
          "metadata": {
            "tags": []
          },
          "execution_count": 85
        }
      ]
    },
    {
      "cell_type": "markdown",
      "metadata": {
        "id": "SOcAEUDOrPlv",
        "colab_type": "text"
      },
      "source": [
        "a) Determine el primero, segundo y tercer cuartil. Verifique que los siguientes càlculos son correctos."
      ]
    },
    {
      "cell_type": "code",
      "metadata": {
        "id": "IBYUZIkH55eo",
        "colab_type": "code",
        "colab": {
          "base_uri": "https://localhost:8080/",
          "height": 34
        },
        "outputId": "2a1aec20-51da-4e20-b9fb-890acc09c7e0"
      },
      "source": [
        "q = len(df7)/4\n",
        "\n",
        "if q/math.ceil(q)<1:\n",
        "  Q_1 = (df7.Voltajes[math.ceil(q)] + df7.Voltajes[math.floor(q)])/2\n",
        "elif q/math.ceil(q)==1:\n",
        "  Q_1 = df7.Voltajes[q]\n",
        "\n",
        "if 2*q/math.ceil(2*q)<1:\n",
        "  Q_2 = (df7.Voltajes[math.ceil(2*q)] + df7.Voltajes[math.floor(2*q)])/2\n",
        "elif 2*q/math.ceil(2*q)==1:\n",
        "  Q_2 = df7.Voltajes[2*q]\n",
        "\n",
        "if 3*q/math.ceil(3*q)<1:\n",
        "  Q_3 = (df7.Voltajes[math.ceil(3*q)] + df7.Voltajes[math.floor(3*q)])/2\n",
        "elif 3*q/math.ceil(3*q)==1:\n",
        "  Q_3 = df7.Voltajes[3*q]\n",
        "\n",
        "Q = [Q_1, Q_2, Q_3]\n",
        "Q"
      ],
      "execution_count": 95,
      "outputs": [
        {
          "output_type": "execute_result",
          "data": {
            "text/plain": [
              "[90.85, 94.85, 97.9]"
            ]
          },
          "metadata": {
            "tags": []
          },
          "execution_count": 95
        }
      ]
    },
    {
      "cell_type": "markdown",
      "metadata": {
        "id": "LHaRPkoEBAq2",
        "colab_type": "text"
      },
      "source": [
        "Difieren, puesto que en esa tabla redondea hacia arriba el valor del cuartil, en lugar de tomar el promedio cuando es un float."
      ]
    },
    {
      "cell_type": "markdown",
      "metadata": {
        "id": "fc9klDSsrbzz",
        "colab_type": "text"
      },
      "source": [
        "b) Elabore un diagrama de caja con los datos originales, esta gràfica de caja se hace con los 5 puntos Min, $Q_1$, $Q_2$, $Q_3$ y el Max."
      ]
    },
    {
      "cell_type": "code",
      "metadata": {
        "id": "5L_s2o9oBZar",
        "colab_type": "code",
        "colab": {
          "base_uri": "https://localhost:8080/",
          "height": 711
        },
        "outputId": "4967ccc0-c37b-423b-e679-10a1a6b86e0a"
      },
      "source": [
        "Q2 = []\n",
        "Q2.append(float(df7.min(axis = 0, skipna = True)))\n",
        "Q2.append(Q_1)\n",
        "Q2.append(Q_2)\n",
        "Q2.append(Q_3)\n",
        "Q2.append(float(df7.max(axis = 0, skipna = True)))\n",
        "df7b = pd.DataFrame({'Cuartil': Q2})\n",
        "\n",
        "#Graficando\n",
        "sns.boxplot(y=\"Cuartil\", data=df7b, color = 'red')\n",
        "plt.xlabel(r'Cuartiles', fontsize = 14)\n",
        "plt.ylabel(r'Voltaje', fontsize = 14)\n",
        "sns.despine()\n",
        "fig1.savefig('/content/drive/My Drive/Estadística/7Problemas/VoltajeQ.png', dpi=300)\n",
        "plt.show()"
      ],
      "execution_count": 126,
      "outputs": [
        {
          "output_type": "display_data",
          "data": {
            "image/png": "[encoded data removed]",
            "text/plain": [
              "<Figure size 864x864 with 1 Axes>"
            ]
          },
          "metadata": {
            "tags": []
          }
        }
      ]
    },
    {
      "cell_type": "markdown",
      "metadata": {
        "id": "3RDsok1sr18f",
        "colab_type": "text"
      },
      "source": [
        "c) Señale los valores sospechosos que pueden ser datos apartados “moderados” o “extremos” con relaciòn al grupo central de datos."
      ]
    },
    {
      "cell_type": "markdown",
      "metadata": {
        "id": "TUjp7bLRsYz-",
        "colab_type": "text"
      },
      "source": [
        "d) Determine el rango intercuartil $RI$, (denotado con $f_s$ o disperción de los cuartos en el libro de Jay Devore). Verifique que la siguiente tabla de valores es correcta.\n",
        "\n",
        "![Texte alternatif…](https://drive.google.com/uc?id=1LIP22xPGusMXPI5sQEYbvukNdamlxugK)"
      ]
    },
    {
      "cell_type": "markdown",
      "metadata": {
        "id": "UV-bf-5MsoSy",
        "colab_type": "text"
      },
      "source": [
        "f) Utilice la información de la tabla anterior y determine analìticamente los cinco datos atìpicos (outliers) y etiquètelos si son datos alejados “moderados” o “extremos”."
      ]
    },
    {
      "cell_type": "markdown",
      "metadata": {
        "id": "1QlWFxT6s1lZ",
        "colab_type": "text"
      },
      "source": [
        "g) Construya de nuevo el diagrama de caja modificado con los puntos $a_1$, $Q_1$, $Q_2$, $Q_3$ y $a_2$ màs los outliers; en esta gràfica los datos alejados “moderados” se marcan con un punto y los datos apartados “extremos” con un cìrculo."
      ]
    },
    {
      "cell_type": "code",
      "metadata": {
        "id": "inkI-qaI_gYn",
        "colab_type": "code",
        "colab": {
          "base_uri": "https://localhost:8080/",
          "height": 711
        },
        "outputId": "6a090987-0813-44fc-ccca-cb91fc7a1ab6"
      },
      "source": [
        "g = []\n",
        "for i in range(0, 4):\n",
        "  g.append(df7.Voltajes[i])\n",
        "\n",
        "for i in range(0, 3):\n",
        "  g.append(Q[i])\n",
        "\n",
        "a1 = 90.2\n",
        "a2 = 96.8\n",
        "g.append(a1)\n",
        "g.append(a2)\n",
        "g.append(float(df7.max()))\n",
        "\n",
        "df7c = pd.DataFrame({'Outlier': g})\n",
        "\n",
        "#Graficando\n",
        "sns.boxplot(y=\"Outlier\", data=df7c, color = 'blue')\n",
        "plt.xlabel(r'Cuartiles', fontsize = 14)\n",
        "plt.ylabel(r'Voltaje', fontsize = 14)\n",
        "sns.despine()\n",
        "fig1.savefig('/content/drive/My Drive/Estadística/7Problemas/VoltajeQ2.png', dpi=300)\n",
        "plt.show()"
      ],
      "execution_count": 125,
      "outputs": [
        {
          "output_type": "display_data",
          "data": {
            "image/png": "[encoded data removed]",
            "text/plain": [
              "<Figure size 864x864 with 1 Axes>"
            ]
          },
          "metadata": {
            "tags": []
          }
        }
      ]
    },
    {
      "cell_type": "markdown",
      "metadata": {
        "id": "gQI1PhMdteT5",
        "colab_type": "text"
      },
      "source": [
        "h) Compare el diagrama de caja del inciso b) con el diagrama del inciso f). Comente las características importantes de la distribuciòn de los datos. ¿Cuál de los dos diagramas de caja considera que es mejor y porque para visualizar la distribuciòn y dispersiòn de los datos, el primer diagrama sin considerar outliers o el segundo diagrama considerando outliers?\n",
        "\n",
        "Se puede ver que el segundo diagrama de caja se ve mucho más centrado, además de que es más sencillo ver los detalles de la gráfica sin valores extremos que extiendan los bigotes innecesariamente, por lo que considero que es mucho mejor deshacerse al menos de los outliers extremos."
      ]
    },
    {
      "cell_type": "markdown",
      "metadata": {
        "id": "RyQ2roOKHnbi",
        "colab_type": "text"
      },
      "source": [
        "9. Los siguientes datos representan 100 nùmeros aleatorios generados en el intervalo (0,10) supuestamente con una distribuciòn uniforme."
      ]
    },
    {
      "cell_type": "code",
      "metadata": {
        "id": "6PuwBhjWwg9W",
        "colab_type": "code",
        "colab": {
          "base_uri": "https://localhost:8080/",
          "height": 419
        },
        "outputId": "900fae75-ad47-4a7e-e48c-1d7cbefc3bba"
      },
      "source": [
        "df9 = pd.read_csv('/content/drive/My Drive/Estadística/7Problemas/9.csv')\n",
        "df9"
      ],
      "execution_count": 106,
      "outputs": [
        {
          "output_type": "execute_result",
          "data": {
            "text/html": [
              "<div>\n",
              "<style scoped>\n",
              "    .dataframe tbody tr th:only-of-type {\n",
              "        vertical-align: middle;\n",
              "    }\n",
              "\n",
              "    .dataframe tbody tr th {\n",
              "        vertical-align: top;\n",
              "    }\n",
              "\n",
              "    .dataframe thead th {\n",
              "        text-align: right;\n",
              "    }\n",
              "</style>\n",
              "<table border=\"1\" class=\"dataframe\">\n",
              "  <thead>\n",
              "    <tr style=\"text-align: right;\">\n",
              "      <th></th>\n",
              "      <th>Distribucion</th>\n",
              "    </tr>\n",
              "  </thead>\n",
              "  <tbody>\n",
              "    <tr>\n",
              "      <th>0</th>\n",
              "      <td>3.82</td>\n",
              "    </tr>\n",
              "    <tr>\n",
              "      <th>1</th>\n",
              "      <td>2.45</td>\n",
              "    </tr>\n",
              "    <tr>\n",
              "      <th>2</th>\n",
              "      <td>3.71</td>\n",
              "    </tr>\n",
              "    <tr>\n",
              "      <th>3</th>\n",
              "      <td>9.51</td>\n",
              "    </tr>\n",
              "    <tr>\n",
              "      <th>4</th>\n",
              "      <td>0.74</td>\n",
              "    </tr>\n",
              "    <tr>\n",
              "      <th>...</th>\n",
              "      <td>...</td>\n",
              "    </tr>\n",
              "    <tr>\n",
              "      <th>105</th>\n",
              "      <td>1.32</td>\n",
              "    </tr>\n",
              "    <tr>\n",
              "      <th>106</th>\n",
              "      <td>6.86</td>\n",
              "    </tr>\n",
              "    <tr>\n",
              "      <th>107</th>\n",
              "      <td>7.38</td>\n",
              "    </tr>\n",
              "    <tr>\n",
              "      <th>108</th>\n",
              "      <td>7.96</td>\n",
              "    </tr>\n",
              "    <tr>\n",
              "      <th>109</th>\n",
              "      <td>3.25</td>\n",
              "    </tr>\n",
              "  </tbody>\n",
              "</table>\n",
              "<p>110 rows × 1 columns</p>\n",
              "</div>"
            ],
            "text/plain": [
              "     Distribucion\n",
              "0            3.82\n",
              "1            2.45\n",
              "2            3.71\n",
              "3            9.51\n",
              "4            0.74\n",
              "..            ...\n",
              "105          1.32\n",
              "106          6.86\n",
              "107          7.38\n",
              "108          7.96\n",
              "109          3.25\n",
              "\n",
              "[110 rows x 1 columns]"
            ]
          },
          "metadata": {
            "tags": []
          },
          "execution_count": 106
        }
      ]
    },
    {
      "cell_type": "markdown",
      "metadata": {
        "id": "iY3b9pzjIHYx",
        "colab_type": "text"
      },
      "source": [
        "a) Elabore un histograma de frecuencias relativas utilizando 10 clases y comente si los datos a simple vista parecen provenir o no de una distribuciòn constante. La distribuciòn uniforme es una función constante igual a\n",
        "\n",
        "$f(x) = \\frac{1}{b-a}$ para $a\\leq x\\leq b$, donde $a = 0$, $b = 10$"
      ]
    },
    {
      "cell_type": "code",
      "metadata": {
        "id": "vU5x0ESRI5df",
        "colab_type": "code",
        "colab": {
          "base_uri": "https://localhost:8080/",
          "height": 738
        },
        "outputId": "4bfebf21-7089-4414-c141-98aa30ad0b7e"
      },
      "source": [
        "#Graficando\n",
        "sns.distplot(df9['Distribucion'], label = r'Valores')\n",
        "plt.legend()\n",
        "plt.xlabel(r'Intervalos', fontsize = 14)\n",
        "plt.ylabel(r'Frecuencia relativa', fontsize = 14)\n",
        "#title(r'Distribución', fontsize = 18)\n",
        "#sns.despine()\n",
        "fig1 = plt.gcf()\n",
        "plt.show()\n",
        "plt.draw()\n",
        "fig1.savefig('/content/drive/My Drive/Estadística/7Problemas/Histograma.png', dpi=300)"
      ],
      "execution_count": 122,
      "outputs": [
        {
          "output_type": "display_data",
          "data": {
            "image/png": "[encoded data removed]",
            "text/plain": [
              "<Figure size 864x864 with 1 Axes>"
            ]
          },
          "metadata": {
            "tags": []
          }
        },
        {
          "output_type": "display_data",
          "data": {
            "text/plain": [
              "<Figure size 864x864 with 0 Axes>"
            ]
          },
          "metadata": {
            "tags": []
          }
        }
      ]
    },
    {
      "cell_type": "markdown",
      "metadata": {
        "id": "C60hgm32I58J",
        "colab_type": "text"
      },
      "source": [
        "A simple vista por la gráfica, podemos ver que no se parece a una distribución uniforme, puesto que en los intervalos la frecuencia no se presenta de manera... Bueno... Uniforme.\n",
        "\n",
        "b) La media poblacional $\\mu$ y varianza poblacional $\\sigma$ teóricas esperadas para números aleatorios con distribución uniforme en el intervalo ($a$, $b$) vienen dadas por las fórmulas\n",
        "\n",
        "$\\mu = \\frac{a-b}{2} \\longrightarrow \\mu = 5$\n",
        "\n",
        "$\\sigma^2 = \\frac{(a-b)^2}{12} \\longrightarrow \\sigma^2 = \\frac{25}{3}$\n",
        "\n",
        "\n",
        "c) Obtenga las estadìsticas muestrales de media $\\overline{x}4 y varianza $s^2$. ¿Observa usted que estos valores se parecen a los parámetros poblacionales $\\mu$ y $\\sigma^2$ ? Si no son idènticos, ¿es natural que difieran? ¿Sí, no y por qué? \n",
        "\n",
        "Se tiene que\n",
        "\n",
        "\n",
        "$\\overline{x} = 4.8493$\n",
        "\n",
        "\n",
        "$s^2 = 9.5606$\n",
        "\n",
        "No lo son, y es normal, debido a que los estimadores que se obtienen de la muestra no siempre serán idénticos a los parámetros. El punto es aproximarse.\n",
        "\n",
        "d) ¿En cuánto se espera que difiera $\\overline{x}$ del valor teórico esperado $\\mu$? ¡Bingo! A este cálculo se le llama Error típico de la media. Este error justamente depende de cómo es el muestreo, con reemplazo o sin reemplazo.\n",
        "\n",
        "Obteniendo el error típico de la media\n",
        "\n",
        "$E_{tm} = \\frac{\\sigma}{\\sqrt{n}} \\longrightarrow E_{tm} = 0.2886751346$\n",
        "\n",
        "Si se usa el error típico en la media para sacar un rango sumando y restando a la media muestral, en el rango se contendrá el parámetro poblacional.\n",
        "\n"
      ]
    }
  ]
}